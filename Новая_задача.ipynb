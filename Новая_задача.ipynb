{
  "cells": [
    {
      "cell_type": "markdown",
      "metadata": {
        "id": "view-in-github",
        "colab_type": "text"
      },
      "source": [
        "<a href=\"https://colab.research.google.com/github/Viktorydogger/AvitoTest-app/blob/main/%D0%9D%D0%BE%D0%B2%D0%B0%D1%8F_%D0%B7%D0%B0%D0%B4%D0%B0%D1%87%D0%B0.ipynb\" target=\"_parent\"><img src=\"https://colab.research.google.com/assets/colab-badge.svg\" alt=\"Open In Colab\"/></a>"
      ]
    },
    {
      "cell_type": "code",
      "execution_count": null,
      "metadata": {
        "id": "7iQnvI2AlEY-"
      },
      "outputs": [],
      "source": [
        "import numpy as np\n",
        "import matplotlib.pyplot as plt\n",
        "import math as ma\n",
        "import sympy as sp"
      ]
    },
    {
      "cell_type": "markdown",
      "source": [
        "# Функции внутри МКЭ"
      ],
      "metadata": {
        "id": "5BIPM9rA0jea"
      }
    },
    {
      "cell_type": "code",
      "execution_count": null,
      "metadata": {
        "id": "Rhyk8_vUlEZC"
      },
      "outputs": [],
      "source": [
        "def uniform_function(h,p,m,delta,l):\n",
        "    PD = 2\n",
        "    q = np.array([[0,0],[l,0],[0,h],[l,h]])\n",
        "    NoN = (p+1)*(m+1)\n",
        "    NoE = p*m\n",
        "    NPE = 4\n",
        "    NL = np.zeros([NoN, PD])\n",
        "    a = (q[1,0]-q[0,0])/p\n",
        "    b = (q[2,1]-q[0,1])/m\n",
        "    n = 0\n",
        "    for i in range(1,m+2):\n",
        "        for j in range(1,p+2):\n",
        "            NL[n,0] = q[0,0]+(j-1)*a\n",
        "            NL[n,1] = q[0,1]+(i-1)*b\n",
        "            n+=1\n",
        "    EL = np.zeros([NoE,NPE])\n",
        "    for i in range(1,m+1):\n",
        "        for j in range(1,p+1):\n",
        "            if j == 1:\n",
        "                EL[(i-1)*p+j-1,0] = ((i-1)*(p+1) + j)\n",
        "                EL[(i-1)*p+j-1,1] = (EL[(i-1)*p+j-1,0] + 1)\n",
        "                EL[(i-1)*p+j-1,3] = (EL[(i-1)*p+j-1,0] + (p+1))\n",
        "                EL[(i-1)*p+j-1,2] = (EL[(i-1)*p+j-1,3] +1)\n",
        "            else:\n",
        "                EL[(i-1)*p+j-1,0] = (EL[(i-1)*p+j-2,1])\n",
        "                EL[(i-1)*p+j-1,3] = (EL[(i-1)*p+j-2,2])\n",
        "                EL[(i-1)*p+j-1,1] = (EL[(i-1)*p+j-1,0] + 1)\n",
        "                EL[(i-1)*p+j-1,2] = (EL[(i-1)*p+j-1,3] + 1)\n",
        "    NPEn = 3\n",
        "    NoEn = NoE*2\n",
        "    ELn = np.zeros([NoEn,NPEn])\n",
        "    for i in range(1,NoE+1):\n",
        "        ELn[2*(i-1),0] = EL[i-1,0]\n",
        "        ELn[2*(i-1),1] = EL[i-1,1]\n",
        "        ELn[2*(i-1),2] = EL[i-1,2]\n",
        "            \n",
        "        ELn[2*(i-1)+1,0] = EL[i-1,0]\n",
        "        ELn[2*(i-1)+1,1] = EL[i-1,2]\n",
        "        ELn[2*(i-1)+1,2] = EL[i-1,3]\n",
        "    EL = ELn\n",
        "    EL = EL.astype(int)\n",
        "    NPEn = 3        \n",
        "    return NL, EL"
      ]
    },
    {
      "cell_type": "code",
      "execution_count": null,
      "metadata": {
        "id": "UImM-cmmlEZD"
      },
      "outputs": [],
      "source": [
        "def Det2(xi,yi,xj,yj,xk,yk):\n",
        "    return ((xj*abs(yk - yi) + xi*abs(yj - yk) + xk*abs(yi - yj)))    "
      ]
    },
    {
      "cell_type": "code",
      "execution_count": null,
      "metadata": {
        "id": "T7HAXanolEZE"
      },
      "outputs": [],
      "source": [
        "def K_ok(A,lim):\n",
        "    for i in range(int(len(lim)/2)):\n",
        "        if lim[2*i] ==0 and lim[2*i+1] == 0:\n",
        "            A[2*i:2*i+1,:]=A[2*i:2*i+1,:]*0\n",
        "            A[:,2*i:2*i+1]=A[:,2*i:2*i+1]*0\n",
        "            A[2*i,2*i] = 1\n",
        "            A[2*i+1,2*i+1] = 1\n",
        "    return A"
      ]
    },
    {
      "cell_type": "code",
      "execution_count": null,
      "metadata": {
        "id": "rHef29vBlEZE"
      },
      "outputs": [],
      "source": [
        "def make_B(num,el_nod,Coord_nod,D):\n",
        "    x,y,z = sp.symbols('x, y, z')\n",
        "    ui,uj,uk = sp.var('ui uj uk')\n",
        "    vi,vj,vk = sp.var('vi vj vk')\n",
        "    wi,wj,wk = sp.var('wi wj wk')\n",
        "    n = el_nod[num,0]\n",
        "    m = el_nod[num,1]\n",
        "    t = el_nod[num,2]\n",
        "    # для конкретного элемента ищем координаты узлов\n",
        "    xi = Coord_nod[n,0]\n",
        "    yi = Coord_nod[n,1]\n",
        "    xj = Coord_nod[m,0]\n",
        "    yj = Coord_nod[m,1]\n",
        "    xk = Coord_nod[t,0]\n",
        "    yk = Coord_nod[t,1]\n",
        "    # пользуемся формулами со слайда 29\n",
        "    Det = Det2(xi,yi,xj,yj,xk,yk)\n",
        "    \n",
        "    ai = (xj*yk - xk*yj)/Det\n",
        "    aj = (xk*yi - xi*yk)/Det\n",
        "    ak = (xi*yj - xj*yi)/Det\n",
        "    bi = (yj - yk)/Det\n",
        "    bj = (yk - yi)/Det\n",
        "    bk = (yi - yj)/Det\n",
        "    ci = (xk - xj)/Det\n",
        "    cj = (xi - xk)/Det\n",
        "    ck = (xj - xi)/Det\n",
        "    # собираем матрицу B\n",
        "    Bi =[[bi, 0],[0, ci],[ci, bi]]\n",
        "    Bj =[[bj, 0],[0, cj],[cj, bj]] \n",
        "    Bk =[[bk, 0],[0, ck],[ck, bk]] \n",
        "    B0 = np.hstack([Bi, Bj, Bk])\n",
        "    return B0"
      ]
    },
    {
      "cell_type": "code",
      "execution_count": null,
      "metadata": {
        "id": "PcQ9q4M3lEZF"
      },
      "outputs": [],
      "source": [
        "def make_K(num,el_nod,Coord_nod,D):\n",
        "    Bi = make_B(num,el_nod,Coord_nod,D)\n",
        "    n = el_nod[num,0]\n",
        "    m = el_nod[num,1]\n",
        "    t = el_nod[num,2]\n",
        "    xi = Coord_nod[n,0]\n",
        "    yi = Coord_nod[n,1]\n",
        "    xj = Coord_nod[m,0]\n",
        "    yj = Coord_nod[m,1]\n",
        "    xk = Coord_nod[t,0]\n",
        "    yk = Coord_nod[t,1]\n",
        "    return (Det2(xi,yi,xj,yj,xk,yk)/2)*Bi.T.dot(D).dot(Bi)"
      ]
    },
    {
      "cell_type": "code",
      "execution_count": null,
      "metadata": {
        "id": "FPVhBVq5lEZF"
      },
      "outputs": [],
      "source": [
        "def sum_K(A,B,ind,num):\n",
        "    for i in range(len(ind)):\n",
        "        for j in range(len(ind)):\n",
        "            ii = ind[i]\n",
        "            jj = ind[j]\n",
        "            A[ii*2:ii*2+2,jj*2:jj*2+2] += B[i*2:i*2+2,j*2:j*2+2]\n",
        "    return A"
      ]
    },
    {
      "cell_type": "code",
      "execution_count": null,
      "metadata": {
        "id": "D98r8nIPlEZG"
      },
      "outputs": [],
      "source": [
        "def right(eff,num_nod):\n",
        "    a = np.zeros(num_nod*2)\n",
        "    for i in range(len(eff)):\n",
        "            a[i*2] = eff[i,0]\n",
        "            a[i*2+1] = eff[i,1]       \n",
        "    return a"
      ]
    },
    {
      "cell_type": "code",
      "source": [
        "# хранение полуленты\n",
        "def band(A):\n",
        "    n = len(A)\n",
        "    B = np.zeros((n,6))\n",
        "    A = np.block([A, np.zeros((n,5))])\n",
        "    for i in range(n):\n",
        "        B[i,:] = A[i,i:6+i]\n",
        "    return B"
      ],
      "metadata": {
        "id": "0tZ2PhorguUQ"
      },
      "execution_count": null,
      "outputs": []
    },
    {
      "cell_type": "code",
      "source": [
        "def band_out(A):\n",
        "    n = len(A)\n",
        "    A = np.block([[A, np.zeros((n,n))]])\n",
        "    B = np.zeros((n,n*2))\n",
        "    for i in range(n):\n",
        "        for j in range(n):\n",
        "            B[i,i+j] = A[i,j]\n",
        "            B[i,i-j] = B[i-j,i]\n",
        "    \n",
        "        \n",
        "    return B[:,:n]"
      ],
      "metadata": {
        "id": "bknZwj8fguAr"
      },
      "execution_count": null,
      "outputs": []
    },
    {
      "cell_type": "code",
      "execution_count": null,
      "metadata": {
        "id": "ICJhosWWlEZG"
      },
      "outputs": [],
      "source": [
        "def paint(cord,elem):\n",
        "    x0, y0 = cord[elem[:,0]-1,0], cord[elem[:,0]-1,1]\n",
        "    x1, y1 = cord[elem[:,1]-1,0], cord[elem[:,1]-1,1]\n",
        "    x2, y2 = cord[elem[:,2]-1,0], cord[elem[:,2]-1,1]\n",
        "    plt.plot(np.array([x0,x1]),np.array([y0,y1]),'black',linewidth=0.5);\n",
        "    plt.plot(np.array([x1,x2]),np.array([y1,y2]),'black',linewidth=0.5);\n",
        "    plt.plot(np.array([x2,x0]),np.array([y2,y0]),'black',linewidth=0.5);\n",
        "    plt.axis('equal')\n",
        "    #for i in range(len(cord)):\n",
        "     # plt.annotate(i,xy = (cord[i,0],cord[i,1]))\n",
        "\n",
        "\n",
        "    #plt.grid()\n",
        "    return "
      ]
    },
    {
      "cell_type": "code",
      "execution_count": null,
      "metadata": {
        "id": "43gkocvilEZG"
      },
      "outputs": [],
      "source": [
        "def FEM(el_nod,Coord_nod,D,eff,Num_nod,Num_el,l):\n",
        "    rig = right(eff,Num_nod)\n",
        "    K0 = np.zeros((Num_nod*2,Num_nod*2))\n",
        "    for i in range(0,Num_el):\n",
        "        ind = el_nod[i,:]\n",
        "        K0 = sum_K(K0,make_K(i,el_nod,Coord_nod,D),ind,i)\n",
        "    for i in range(Num_nod):\n",
        "      #закрепляем\n",
        "        if abs(Coord_nod[i,0])<1/(p*m*1000):\n",
        "            K0[i*2,:] = K0[i,:]*0\n",
        "            K0[:,2*i] = K0[:,i]*0\n",
        "            K0[i*2,i*2] = 1    \n",
        "    U = np.linalg.solve(K0,rig.T)\n",
        "    max_sig = 0\n",
        "    max_sig_i = -1\n",
        "    m_s=0\n",
        "    m_s_i=-1\n",
        "    lnap = np.matrix([-1,-1,-1])\n",
        "    for i in range(Num_el):\n",
        "        B = make_B(i,el_nod,Coord_nod,D)\n",
        "        Ui = np.zeros((6))\n",
        "        Ui[0] = U[el_nod[i,0]*2]\n",
        "        Ui[1] = U[el_nod[i,0]*2+1]\n",
        "        Ui[2] = U[el_nod[i,1]*2]\n",
        "        Ui[3] = U[el_nod[i,1]*2+1]  \n",
        "        Ui[4] = U[el_nod[i,2]*2]\n",
        "        Ui[5] = U[el_nod[i,2]*2+1]    \n",
        "        Eps = B.dot(Ui)\n",
        "        Nap = D.dot(Eps) \n",
        "        lnap = np.append(lnap,[[Nap[0],Nap[1],Nap[2]]],axis=0)\n",
        "        NapM = np.matrix([[Nap[0],Nap[2]],[Nap[2],Nap[1]]])  \n",
        "        now_sig = Nap[0]  \n",
        "        #print(now_sig)\n",
        "        a = Coord_nod[el_nod[i,0],:]\n",
        "        b = Coord_nod[el_nod[i,1],:]\n",
        "        c = Coord_nod[el_nod[i,2],:]\n",
        "        #e = plt.Polygon([a,b,c],color=[abs(now_sig)/(132456819),1-abs(now_sig)/(132456819),abs(now_sig)/(132456819)])\n",
        "        #plt.gca().add_patch(e)    \n",
        "        #Sig,s = np.linalg.eig(NapM)         \n",
        "        #now_sig = ma.sqrt(Nap[0]**2-Nap[0]*Nap[1]+Nap[1]**2+3*Nap[2]**2)\n",
        "        #print(now_sig)\n",
        "        if abs(now_sig) > abs(max_sig):\n",
        "            max_sig = now_sig\n",
        "            max_sig_i = i \n",
        "    print(\"Максимальное напряжение = \",max_sig)\n",
        "    #a = Coord_nod[el_nod[max_sig_i,0],:]\n",
        "    #b = Coord_nod[el_nod[max_sig_i,1],:]\n",
        "    #c = Coord_nod[el_nod[max_sig_i,2],:]\n",
        "    print(\"Количество элементов \", len(el_nod))\n",
        "    #plt.grid()\n",
        "    #e = plt.Polygon([a,b,c],color='red')\n",
        "    #plt.gca().add_patch(e)\n",
        "    plt.xlabel('x')\n",
        "    plt.ylabel('y')\n",
        "    plt.plot(b[0],b[1],'r*')\n",
        "    plt.plot(a[0],a[1],'r*')\n",
        "    plt.plot(c[0],c[1],'r*')\n",
        "    plt.axis('equal')\n",
        "    plt.show()\n",
        "    plt.close()\n",
        "    lnap = np.delete(lnap,0,axis = 0)\n",
        "    return U"
      ]
    },
    {
      "cell_type": "markdown",
      "source": [
        "# Стандартный МКЭ"
      ],
      "metadata": {
        "id": "F5LuSHY76Qz8"
      }
    },
    {
      "cell_type": "code",
      "execution_count": null,
      "metadata": {
        "id": "-gqUf8vjlEZH",
        "outputId": "2811e51a-91f4-49ec-ca35-0c9d21746ab0",
        "colab": {
          "base_uri": "https://localhost:8080/",
          "height": 484
        }
      },
      "outputs": [
        {
          "output_type": "stream",
          "name": "stdout",
          "text": [
            "Максимальное напряжение =  -132456818.99982704\n",
            "Количество элементов  550\n"
          ]
        },
        {
          "output_type": "display_data",
          "data": {
            "text/plain": [
              "<Figure size 640x480 with 1 Axes>"
            ],
            "image/png": "[encoded data removed]"
          },
          "metadata": {}
        }
      ],
      "source": [
        "mu = 0.3\n",
        "E = 2.1*10**11\n",
        "h = 10\n",
        "p = 55\n",
        "m = 5\n",
        "delta = 0.5\n",
        "l = 11*h\n",
        "element_type = 'D2TR3N'\n",
        "NL, EL = uniform_function(h,p,m,delta,l)\n",
        "paint(NL,EL)\n",
        "EL = EL - np.ones((EL.shape[0],EL.shape[1]))\n",
        "EL = EL.astype(int)\n",
        "q = 100*10**6\n",
        "eff = np.zeros((len(NL),2))\n",
        "for i in range(len(NL)):\n",
        "    if NL[i,0] >= l:\n",
        "        if NL[i,1] >= h or NL[i,1] == 0:\n",
        "            eff[i,0] = -h*q/m/2   \n",
        "        else: \n",
        "            eff[i,0] = -h*q/m\n",
        "#D = E/(1 - mu*mu)*np.array([[1,mu,0],[mu,1,0],[0,0, (1-mu)/2]])\n",
        "D = E*(1-mu)/((1+mu)*(1-2*mu))*np.array([[1,mu/(1-mu),0],[mu/(1-mu),1,0],[0,0,(1-2*mu)/(2*(1-mu))]])\n",
        "U = FEM(EL,NL,D,eff,len(NL),len(EL),l)"
      ]
    },
    {
      "cell_type": "markdown",
      "source": [
        "# Функции для построения локальной сетки (боковые)"
      ],
      "metadata": {
        "id": "CurN7ZW7PlsV"
      }
    },
    {
      "cell_type": "code",
      "source": [
        "def sidl(x0,y0,w,n):\n",
        "  #сначала зададим узлы пока для 8\n",
        "  nl=np.zeros([19,2])\n",
        "  nl[0,0] = x0\n",
        "  nl[0,1] = y0\n",
        "  nl[1,0] = x0\n",
        "  nl[1,1] = y0+w\n",
        "  for i in range(3):\n",
        "    nl[2+i,0]=x0+w/3\n",
        "    nl[2+i,1]=y0+i*w/2\n",
        "  for i in range(5):\n",
        "    nl[5+i,0]=x0+2*w/3\n",
        "    nl[5+i,1]=y0+i*w/4\n",
        "  for i in range(9):\n",
        "    nl[10+i,0]=x0+w\n",
        "    nl[10+i,1]=y0+i*w/8\n",
        "  #по узлам зададим элементы\n",
        "  el = np.zeros([21,3])\n",
        "  el[0,:]=[0,2,3]\n",
        "  el[1,:]=[0,3,1]\n",
        "  el[2,:]=[1,3,4]\n",
        "  el[3,:]=[2,5,6]\n",
        "  el[4,:]=[2,6,3]\n",
        "  el[5,:]=[3,6,7]\n",
        "  el[6,:]=[3,7,8]\n",
        "  el[7,:]=[3,8,4]\n",
        "  el[8,:]=[4,8,9]\n",
        "  el[9,:]=[5,10,11]\n",
        "  el[10,:]=[6,11,5]\n",
        "  el[11,:]=[6,11,12]\n",
        "  el[12,:]=[6,12,13]\n",
        "  el[13,:]=[6,13,7]\n",
        "  el[14,:]=[7,13,14]\n",
        "  el[15,:]=[7,14,15]\n",
        "  el[16,:]=[7,15,8]\n",
        "  el[17,:]=[8,15,16]\n",
        "  el[18,:]=[8,16,17]\n",
        "  el[19,:]=[8,17,9]\n",
        "  el[20,:]=[9,17,18]\n",
        "  el = el + np.ones((el.shape[0],el.shape[1]))\n",
        "  el = el.astype(int)\n",
        "  \n",
        " \n",
        "  return nl,el"
      ],
      "metadata": {
        "id": "VzQFPcnmPxXs"
      },
      "execution_count": null,
      "outputs": []
    },
    {
      "cell_type": "code",
      "source": [
        "def sidl1(x0,y0,w,n):\n",
        "  #сначала зададим узлы пока для 16\n",
        "  nl=np.zeros([27,2])\n",
        "  nl[0,0] = x0\n",
        "  nl[0,1] = y0\n",
        "  nl[1,0] = x0\n",
        "  nl[1,1] = y0+w\n",
        "  for i in range(3):\n",
        "    nl[2+i,0]=x0+w/3\n",
        "    nl[2+i,1]=y0+i*w/2\n",
        "  for i in range(5):\n",
        "    nl[5+i,0]=x0+2*w/3\n",
        "    nl[5+i,1]=y0+i*w/4\n",
        "  for i in range(17):\n",
        "    nl[10+i,0]=x0+w\n",
        "    nl[10+i,1]=y0+i*w/16\n",
        "  #по узлам зададим элементы\n",
        "  el = np.zeros([29,3])\n",
        "  el[0,:]=[0,2,3]\n",
        "  el[1,:]=[0,3,1]\n",
        "  el[2,:]=[1,3,4]\n",
        "  el[3,:]=[2,5,6]\n",
        "  el[4,:]=[2,6,3]\n",
        "  el[5,:]=[3,6,7]\n",
        "  el[6,:]=[3,7,8]\n",
        "  el[7,:]=[3,8,4]\n",
        "  el[8,:]=[4,8,9]\n",
        "  el[9,:]=[5,10,11]\n",
        "  el[10,:]=[6,12,5]\n",
        "  el[11,:]=[5,12,11]\n",
        "  el[12,:]=[6,13,12]\n",
        "  el[13,:]=[6,14,13]\n",
        "  el[14,:]=[6,14,15]\n",
        "  el[15,:]=[6,15,16]\n",
        "  el[16,:]=[6,16,7]\n",
        "  el[17,:]=[7,16,17]\n",
        "  el[18,:]=[7,17,18]\n",
        "  el[19,:]=[7,18,19]\n",
        "  el[20,:]=[7,19,20]\n",
        "  el[21,:]=[7,20,8]\n",
        "  el[22,:]=[8,20,21]\n",
        "  el[23,:]=[8,21,22]\n",
        "  el[24,:]=[8,22,23]\n",
        "  el[25,:]=[8,23,24]\n",
        "  el[26,:]=[8,24,9]\n",
        "  el[27,:]=[9,24,25]\n",
        "  el[28,:]=[9,25,26]\n",
        "  \n",
        "  el = el + np.ones((el.shape[0],el.shape[1]))\n",
        "  el = el.astype(int)\n",
        "  \n",
        " \n",
        "  return nl,el"
      ],
      "metadata": {
        "id": "ezHmtjouaRTh"
      },
      "execution_count": null,
      "outputs": []
    },
    {
      "cell_type": "code",
      "source": [
        "def sidr(x0,y0,w,n):\n",
        "  #сначала зададим узлы пока для 8\n",
        "  nl=np.zeros([19,2])\n",
        "  nl[0,0] = x0+w\n",
        "  nl[0,1] = y0\n",
        "  nl[1,0] = x0+w\n",
        "  nl[1,1] = y0+w\n",
        "  for i in range(3):\n",
        "    nl[2+i,0]=x0+2*w/3\n",
        "    nl[2+i,1]=y0+i*w/2\n",
        "  for i in range(5):\n",
        "    nl[5+i,0]=x0+w/3\n",
        "    nl[5+i,1]=y0+i*w/4\n",
        "  for i in range(9):\n",
        "    nl[10+i,0]=x0\n",
        "    nl[10+i,1]=y0+i*w/8\n",
        "  #по узлам зададим элементы\n",
        "  el = np.zeros([21,3])\n",
        "  el[0,:]=[0,2,3]\n",
        "  el[1,:]=[0,3,1]\n",
        "  el[2,:]=[1,3,4]\n",
        "  el[3,:]=[2,5,6]\n",
        "  el[4,:]=[2,6,3]\n",
        "  el[5,:]=[3,6,7]\n",
        "  el[6,:]=[3,7,8]\n",
        "  el[7,:]=[3,8,4]\n",
        "  el[8,:]=[4,8,9]\n",
        "  el[9,:]=[5,10,11]\n",
        "  el[10,:]=[6,11,5]\n",
        "  el[11,:]=[6,11,12]\n",
        "  el[12,:]=[6,12,13]\n",
        "  el[13,:]=[6,13,7]\n",
        "  el[14,:]=[7,13,14]\n",
        "  el[15,:]=[7,14,15]\n",
        "  el[16,:]=[7,15,8]\n",
        "  el[17,:]=[8,15,16]\n",
        "  el[18,:]=[8,16,17]\n",
        "  el[19,:]=[8,17,9]\n",
        "  el[20,:]=[9,17,18]\n",
        "  el = el + np.ones((el.shape[0],el.shape[1]))\n",
        "  el = el.astype(int)\n",
        "  \n",
        "\n",
        "  return nl,el"
      ],
      "metadata": {
        "id": "Hw3BKXtGMB6I"
      },
      "execution_count": null,
      "outputs": []
    },
    {
      "cell_type": "code",
      "source": [
        "def sidr1(x0,y0,w,n):\n",
        "  #сначала зададим узлы пока для 16\n",
        "  nl=np.zeros([27,2])\n",
        "  nl[0,0] = x0+w\n",
        "  nl[0,1] = y0\n",
        "  nl[1,0] = x0+w\n",
        "  nl[1,1] = y0+w\n",
        "  for i in range(3):\n",
        "    nl[2+i,0]=x0+2*w/3\n",
        "    nl[2+i,1]=y0+i*w/2\n",
        "  for i in range(5):\n",
        "    nl[5+i,0]=x0+w/3\n",
        "    nl[5+i,1]=y0+i*w/4\n",
        "  for i in range(17):\n",
        "    nl[10+i,0]=x0\n",
        "    nl[10+i,1]=y0+i*w/16\n",
        "  #по узлам зададим элементы\n",
        "  el = np.zeros([29,3])\n",
        "  el[0,:]=[0,2,3]\n",
        "  el[1,:]=[0,3,1]\n",
        "  el[2,:]=[1,3,4]\n",
        "  el[3,:]=[2,5,6]\n",
        "  el[4,:]=[2,6,3]\n",
        "  el[5,:]=[3,6,7]\n",
        "  el[6,:]=[3,7,8]\n",
        "  el[7,:]=[3,8,4]\n",
        "  el[8,:]=[4,8,9]\n",
        "  el[9,:]=[5,10,11]\n",
        "  el[10,:]=[6,12,5]\n",
        "  el[11,:]=[5,12,11]\n",
        "  el[12,:]=[6,13,12]\n",
        "  el[13,:]=[6,14,13]\n",
        "  el[14,:]=[6,14,15]\n",
        "  el[15,:]=[6,15,16]\n",
        "  el[16,:]=[6,16,7]\n",
        "  el[17,:]=[7,16,17]\n",
        "  el[18,:]=[7,17,18]\n",
        "  el[19,:]=[7,18,19]\n",
        "  el[20,:]=[7,19,20]\n",
        "  el[21,:]=[7,20,8]\n",
        "  el[22,:]=[8,20,21]\n",
        "  el[23,:]=[8,21,22]\n",
        "  el[24,:]=[8,22,23]\n",
        "  el[25,:]=[8,23,24]\n",
        "  el[26,:]=[8,24,9]\n",
        "  el[27,:]=[9,24,25]\n",
        "  el[28,:]=[9,25,26]\n",
        "  \n",
        "  el = el + np.ones((el.shape[0],el.shape[1]))\n",
        "  el = el.astype(int)\n",
        "  \n",
        " \n",
        "  return nl,el"
      ],
      "metadata": {
        "id": "Gc_jriuCc1Vn"
      },
      "execution_count": null,
      "outputs": []
    },
    {
      "cell_type": "code",
      "source": [
        "def sidd(x0,y0,w,n):\n",
        "  #сначала зададим узлы пока для 8\n",
        "  nl=np.zeros([19,2])\n",
        "  nl[0,0] = x0\n",
        "  nl[0,1] = y0\n",
        "  nl[1,0] = x0+w\n",
        "  nl[1,1] = y0\n",
        "  for i in range(3):\n",
        "    nl[2+i,0]=x0+i*w/2\n",
        "    nl[2+i,1]=y0+w/3\n",
        "  for i in range(5):\n",
        "    nl[5+i,0]=x0+i*w/4\n",
        "    nl[5+i,1]=y0+2*w/3\n",
        "  for i in range(9):\n",
        "    nl[10+i,0]=x0+i*w/8\n",
        "    nl[10+i,1]=y0+w\n",
        "  #по узлам зададим элементы\n",
        "  el = np.zeros([21,3])\n",
        "  el[0,:]=[0,2,3]\n",
        "  el[1,:]=[0,3,1]\n",
        "  el[2,:]=[1,3,4]\n",
        "  el[3,:]=[2,5,6]\n",
        "  el[4,:]=[2,6,3]\n",
        "  el[5,:]=[3,6,7]\n",
        "  el[6,:]=[3,7,8]\n",
        "  el[7,:]=[3,8,4]\n",
        "  el[8,:]=[4,8,9]\n",
        "  el[9,:]=[5,10,11]\n",
        "  el[10,:]=[6,11,5]\n",
        "  el[11,:]=[6,11,12]\n",
        "  el[12,:]=[6,12,13]\n",
        "  el[13,:]=[6,13,7]\n",
        "  el[14,:]=[7,13,14]\n",
        "  el[15,:]=[7,14,15]\n",
        "  el[16,:]=[7,15,8]\n",
        "  el[17,:]=[8,15,16]\n",
        "  el[18,:]=[8,16,17]\n",
        "  el[19,:]=[8,17,9]\n",
        "  el[20,:]=[9,17,18]\n",
        "  el = el + np.ones((el.shape[0],el.shape[1]))\n",
        "  el = el.astype(int)\n",
        "  \n",
        "  return nl,el"
      ],
      "metadata": {
        "id": "9i167FKYYJa_"
      },
      "execution_count": null,
      "outputs": []
    },
    {
      "cell_type": "code",
      "source": [
        "\n",
        "def conl(x0,y0,w):\n",
        "  nl=np.zeros([11,2])\n",
        "  nl[0,0] = x0\n",
        "  nl[0,1] = y0\n",
        "  nl[1,0] = x0+w\n",
        "  nl[1,1] = y0\n",
        "  nl[2,0] = x0+w/2\n",
        "  nl[2,1] = y0+w/2\n",
        "  nl[3,0] = x0\n",
        "  nl[3,1] = y0+w\n",
        "  nl[4,0] = x0+w/3\n",
        "  nl[4,1] = y0+w\n",
        "  nl[5,0] = x0+2*w/3\n",
        "  nl[5,1] = y0+2*w/3\n",
        "  nl[6,0] = x0+w\n",
        "  nl[6,1] = y0+w/3\n",
        "  nl[7,0] = x0+w\n",
        "  nl[7,1] = y0+w*2/3\n",
        "  nl[8,0] = x0+5*w/6\n",
        "  nl[8,1] = y0+5*w/6\n",
        "  nl[9,0] = x0+2*w/3\n",
        "  nl[9,1] = y0+w\n",
        "  nl[10,0] = x0+w\n",
        "  nl[10,1] = y0+w\n",
        "  el = np.zeros([12,3])\n",
        "  el[0,:]=[0,1,2]\n",
        "  el[1,:]=[0,2,3]\n",
        "  el[2,:]=[3,2,4]\n",
        "  el[3,:]=[4,2,5]\n",
        "  el[4,:]=[2,1,5]\n",
        "  el[5,:]=[5,1,6]\n",
        "  el[6,:]=[6,7,8]\n",
        "  el[7,:]=[5,6,8]\n",
        "  el[8,:]=[5,8,9]\n",
        "  el[9,:]=[5,9,4]\n",
        "  el[10,:]=[9,10,8]\n",
        "  el[11,:]=[8,7,10]\n",
        "  el = el + np.ones((el.shape[0],el.shape[1]))\n",
        "  el = el.astype(int)\n",
        "  \n",
        "  return nl,el\n"
      ],
      "metadata": {
        "id": "g7cUgN23ZFjo"
      },
      "execution_count": null,
      "outputs": []
    },
    {
      "cell_type": "code",
      "source": [
        "def conr(x0,y0,w):\n",
        "  nl=np.zeros([11,2])\n",
        "  nl[0,0] = x0+w\n",
        "  nl[0,1] = y0\n",
        "  nl[1,0] = x0\n",
        "  nl[1,1] = y0\n",
        "  nl[2,0] = x0+w/2\n",
        "  nl[2,1] = y0+w/2\n",
        "  nl[3,0] = x0+w\n",
        "  nl[3,1] = y0+w\n",
        "  nl[4,0] = x0+2*w/3\n",
        "  nl[4,1] = y0+w\n",
        "  nl[5,0] = x0+w/3\n",
        "  nl[5,1] = y0+2*w/3\n",
        "  nl[6,0] = x0\n",
        "  nl[6,1] = y0+w/3\n",
        "  nl[7,0] = x0\n",
        "  nl[7,1] = y0+w*2/3\n",
        "  nl[8,0] = x0+w/6\n",
        "  nl[8,1] = y0+5*w/6\n",
        "  nl[9,0] = x0+w/3\n",
        "  nl[9,1] = y0+w\n",
        "  nl[10,0] = x0\n",
        "  nl[10,1] = y0+w\n",
        "  el = np.zeros([12,3])\n",
        "  el[0,:]=[0,1,2]\n",
        "  el[1,:]=[0,2,3]\n",
        "  el[2,:]=[3,2,4]\n",
        "  el[3,:]=[4,2,5]\n",
        "  el[4,:]=[2,1,5]\n",
        "  el[5,:]=[5,1,6]\n",
        "  el[6,:]=[6,7,8]\n",
        "  el[7,:]=[5,6,8]\n",
        "  el[8,:]=[5,8,9]\n",
        "  el[9,:]=[5,9,4]\n",
        "  el[10,:]=[9,10,8]\n",
        "  el[11,:]=[8,7,10]\n",
        "  el = el + np.ones((el.shape[0],el.shape[1]))\n",
        "  el = el.astype(int)\n",
        "  \n",
        "  return nl,el"
      ],
      "metadata": {
        "id": "AjPNopL-dDOr"
      },
      "execution_count": null,
      "outputs": []
    },
    {
      "cell_type": "markdown",
      "source": [
        " # Функции для построения локальной сетки (центральные)"
      ],
      "metadata": {
        "id": "vWLHrXbM6Yyw"
      }
    },
    {
      "cell_type": "markdown",
      "source": [
        "Сетка для прямоугольника"
      ],
      "metadata": {
        "id": "GQQXPDIBP65F"
      }
    },
    {
      "cell_type": "code",
      "execution_count": null,
      "metadata": {
        "id": "KXbSupYwlEZH"
      },
      "outputs": [],
      "source": [
        "def uniform_function_(x0,y0,d1,d2,p,m):\n",
        "    PD = 2\n",
        "    q = np.array([[x0,y0],[x0+d1,y0],[x0,y0+d2],[x0+d1,y0+d2]])\n",
        "    NoN = (p+1)*(m+1)\n",
        "    NoE = p*m\n",
        "    NPE = 4\n",
        "    NL = np.zeros([NoN, PD])\n",
        "    a = (q[1,0]-q[0,0])/p\n",
        "    b = (q[2,1]-q[0,1])/m\n",
        "    n = 0\n",
        "    for i in range(1,m+2):\n",
        "        for j in range(1,p+2):\n",
        "            NL[n,0] = q[0,0]+(j-1)*a\n",
        "            NL[n,1] = q[0,1]+(i-1)*b\n",
        "            n+=1\n",
        "    EL = np.zeros([NoE,NPE])\n",
        "    for i in range(1,m+1):\n",
        "        for j in range(1,p+1):\n",
        "            if j == 1:\n",
        "                EL[(i-1)*p+j-1,0] = ((i-1)*(p+1) + j)\n",
        "                EL[(i-1)*p+j-1,1] = (EL[(i-1)*p+j-1,0] + 1)\n",
        "                EL[(i-1)*p+j-1,3] = (EL[(i-1)*p+j-1,0] + (p+1))\n",
        "                EL[(i-1)*p+j-1,2] = (EL[(i-1)*p+j-1,3] +1)\n",
        "            else:\n",
        "                EL[(i-1)*p+j-1,0] = (EL[(i-1)*p+j-2,1])\n",
        "                EL[(i-1)*p+j-1,3] = (EL[(i-1)*p+j-2,2])\n",
        "                EL[(i-1)*p+j-1,1] = (EL[(i-1)*p+j-1,0] + 1)\n",
        "                EL[(i-1)*p+j-1,2] = (EL[(i-1)*p+j-1,3] + 1)\n",
        "    NPEn = 3\n",
        "    NoEn = NoE*2\n",
        "    ELn = np.zeros([NoEn,NPEn])\n",
        "    for i in range(1,NoE+1):\n",
        "        ELn[2*(i-1),0] = EL[i-1,0]\n",
        "        ELn[2*(i-1),1] = EL[i-1,1]\n",
        "        ELn[2*(i-1),2] = EL[i-1,2]\n",
        "            \n",
        "        ELn[2*(i-1)+1,0] = EL[i-1,0]\n",
        "        ELn[2*(i-1)+1,1] = EL[i-1,2]\n",
        "        ELn[2*(i-1)+1,2] = EL[i-1,3]\n",
        "    EL = ELn\n",
        "        \n",
        "    EL = EL.astype(int)\n",
        "    NPEn = 3\n",
        "    count2 = 1\n",
        "    #for j in range(0,NoE*2):\n",
        "     #   plt.annotate(count2,xy = ((NL[EL[j,0]-1,0]+NL[EL[j,1]-1,0]+NL[EL[j,2]-1,0])/3,(NL[EL[j,0]-1,1]+NL[EL[j,1]-1,1]+NL[EL[j,2]-1,1])/3),c = 'blue')\n",
        "      #  count2 += 1\n",
        "    return NL, EL"
      ]
    },
    {
      "cell_type": "markdown",
      "source": [
        "сетка с правым краем по окружности "
      ],
      "metadata": {
        "id": "GYFQuZljQAaB"
      }
    },
    {
      "cell_type": "code",
      "execution_count": null,
      "metadata": {
        "id": "0tE4T61mlEZI"
      },
      "outputs": [],
      "source": [
        "def half_circle1(x0,y0,delta,w,p,m):\n",
        "    q = np.array([[x0,y0],[x0+w,y0],[x0+w-delta,y0+delta],[x0+w,y0+delta]])\n",
        "    NoN = (p+1)*(m+1)\n",
        "    NoE = p*m\n",
        "    NPE = 4\n",
        "    NL = np.zeros([NoN, 2])\n",
        "    b = delta/m\n",
        "    n = 0\n",
        "    for i in range(1,m+2):\n",
        "        a = ( w - ma.sqrt(delta**2-((m+1-i)*b)**2))/p \n",
        "        for j in range(1,p+2):\n",
        "            NL[n,0] = q[0,0]+(j-1)*a\n",
        "            NL[n,1] = q[0,1]+(i-1)*b\n",
        "            n+=1\n",
        "    EL = np.zeros([NoE,NPE])\n",
        "    for i in range(1,m+1):\n",
        "        for j in range(1,p+1):\n",
        "            if j == 1:\n",
        "                \n",
        "                EL[(i-1)*p+j-1,0] = ((i-1)*(p+1) + j)\n",
        "                EL[(i-1)*p+j-1,1] = (EL[(i-1)*p+j-1,0] + 1)\n",
        "                EL[(i-1)*p+j-1,3] = (EL[(i-1)*p+j-1,0] + (p+1))\n",
        "                EL[(i-1)*p+j-1,2] = (EL[(i-1)*p+j-1,3] +1)\n",
        "            else:\n",
        "                EL[(i-1)*p+j-1,0] = (EL[(i-1)*p+j-2,1])\n",
        "                EL[(i-1)*p+j-1,3] = (EL[(i-1)*p+j-2,2])\n",
        "                EL[(i-1)*p+j-1,1] = (EL[(i-1)*p+j-1,0] + 1)\n",
        "                EL[(i-1)*p+j-1,2] = (EL[(i-1)*p+j-1,3] + 1)\n",
        "    \n",
        "    NPEn = 3\n",
        "    NoEn = NoE*2\n",
        "    ELn = np.zeros([NoEn,NPEn])\n",
        "    for i in range(1,NoE+1):\n",
        "        ELn[2*(i-1),0] = EL[i-1,0]\n",
        "        ELn[2*(i-1),1] = EL[i-1,1]\n",
        "        ELn[2*(i-1),2] = EL[i-1,2]   \n",
        "        ELn[2*(i-1)+1,0] = EL[i-1,0]\n",
        "        ELn[2*(i-1)+1,1] = EL[i-1,2]\n",
        "        ELn[2*(i-1)+1,2] = EL[i-1,3]\n",
        "    EL = ELn\n",
        "        \n",
        "    EL = EL.astype(int)\n",
        "    NPEn = 3\n",
        "    count2 = 1\n",
        "   # for j in range(0,NoE*2):\n",
        "    #    plt.annotate(count2,xy = ((NL[EL[j,0]-1,0]+NL[EL[j,1]-1,0]+NL[EL[j,2]-1,0])/3,(NL[EL[j,0]-1,1]+NL[EL[j,1]-1,1]+NL[EL[j,2]-1,1])/3),c = 'blue')\n",
        "     #   count2 += 1\n",
        "    return NL, EL"
      ]
    },
    {
      "cell_type": "markdown",
      "source": [
        "сетка с левым краем по окружности"
      ],
      "metadata": {
        "id": "T9I6McMYQGNX"
      }
    },
    {
      "cell_type": "code",
      "execution_count": null,
      "metadata": {
        "id": "4ilOYnXZlEZI"
      },
      "outputs": [],
      "source": [
        "def half_circle2(x0,y0,delta,w,p,m):\n",
        "    q = np.array([[x0,y0],[x0+w,y0],[x0,y0+delta],[x0+w,y0+delta]])\n",
        "    NoN = (p+1)*(m+1)\n",
        "    NoE = p*m\n",
        "    NPE = 4\n",
        "    NL = np.zeros([NoN, 2])\n",
        "    b = delta/m\n",
        "    n = 0\n",
        "    \n",
        "    for i in range(1,m+2):\n",
        "        a = (w-ma.sqrt(delta**2-((m+1-i)*b)**2))/p \n",
        "        st = ma.sqrt(delta**2-((m+1-i)*b)**2)\n",
        "        for j in range(1,p+2):\n",
        "            NL[n,0] = x0+st+(j-1)*a\n",
        "            NL[n,1] = q[0,1]+(i-1)*b\n",
        "            n+=1\n",
        "    EL = np.zeros([NoE,NPE])\n",
        "    for i in range(1,m+1):\n",
        "        for j in range(1,p+1):\n",
        "            if j == 1:\n",
        "                \n",
        "                EL[(i-1)*p+j-1,0] = ((i-1)*(p+1) + j)\n",
        "                EL[(i-1)*p+j-1,1] = (EL[(i-1)*p+j-1,0] + 1)\n",
        "                EL[(i-1)*p+j-1,3] = (EL[(i-1)*p+j-1,0] + (p+1))\n",
        "                EL[(i-1)*p+j-1,2] = (EL[(i-1)*p+j-1,3] +1)\n",
        "            else:\n",
        "                EL[(i-1)*p+j-1,0] = (EL[(i-1)*p+j-2,1])\n",
        "                EL[(i-1)*p+j-1,3] = (EL[(i-1)*p+j-2,2])\n",
        "                EL[(i-1)*p+j-1,1] = (EL[(i-1)*p+j-1,0] + 1)\n",
        "                EL[(i-1)*p+j-1,2] = (EL[(i-1)*p+j-1,3] + 1)\n",
        "    \n",
        "    NPEn = 3\n",
        "    NoEn = NoE*2\n",
        "    ELn = np.zeros([NoEn,NPEn])\n",
        "    for i in range(1,NoE+1):\n",
        "        ELn[2*(i-1),0] = EL[i-1,0]\n",
        "        ELn[2*(i-1),1] = EL[i-1,1]\n",
        "        ELn[2*(i-1),2] = EL[i-1,2]   \n",
        "        ELn[2*(i-1)+1,0] = EL[i-1,0]\n",
        "        ELn[2*(i-1)+1,1] = EL[i-1,2]\n",
        "        ELn[2*(i-1)+1,2] = EL[i-1,3]\n",
        "    EL = ELn\n",
        "        \n",
        "    EL = EL.astype(int)\n",
        "    NPEn = 3\n",
        "    count2 = 1\n",
        "   # for j in range(0,NoE*2):\n",
        "    #    plt.annotate(count2,xy = ((NL[EL[j,0]-1,0]+NL[EL[j,1]-1,0]+NL[EL[j,2]-1,0])/3,(NL[EL[j,0]-1,1]+NL[EL[j,1]-1,1]+NL[EL[j,2]-1,1])/3),c = 'blue')\n",
        "     #   count2 += 1\n",
        "    return NL, EL"
      ]
    },
    {
      "cell_type": "markdown",
      "source": [
        "Функция объединения сеток"
      ],
      "metadata": {
        "id": "tVB7PhuUOJjW"
      }
    },
    {
      "cell_type": "code",
      "source": [
        "def uni(nla,ela,nlb,elb):\n",
        "  \n",
        "  ss = []\n",
        "  ss1 = []\n",
        "  for i in range(len(nla)):\n",
        "    for j in range(len(nlb)):\n",
        "      if abs(nla[i,0]-nlb[j,0])<delta/1000 and abs(nla[i,1]-nlb[j,1])<delta/1000:\n",
        "        ss.append(i+1)\n",
        "        ss1.append(j+1) \n",
        "        \n",
        "     \n",
        "  ss2 = list(np.array(ss1)-1)\n",
        "  sortss1 = sorted(ss1)\n",
        "  nlb = np.delete(nlb,ss2,axis=0)\n",
        "  for i in range(len(elb)):\n",
        "    \n",
        "    for j in range(3):\n",
        "      if elb[i,j] in ss1:\n",
        "        \n",
        "        for k in range(len(ss1)):\n",
        "          if elb[i,j] == ss1[k]:\n",
        "            elb[i,j] = ss[k]\n",
        "      elif elb[i,j] > max(ss1):\n",
        "        elb[i,j] += len(nla) - len(ss)\n",
        "      elif elb[i,j] < min(ss1):\n",
        "        elb[i,j] += len(nla)\n",
        "      else: \n",
        "        for k in range(len(sortss1)):\n",
        "          if elb[i,j] < sortss1[k]:\n",
        "            elb[i,j]+=len(nla)-k\n",
        "      \n",
        "            break\n",
        "    \n",
        "  elans = np.vstack([ela,elb])            \n",
        "  nlans = np.vstack([nla,nlb])\n",
        "  \n",
        "  \n",
        "  return nlans,elans"
      ],
      "metadata": {
        "id": "gUF3WnlJOJN3"
      },
      "execution_count": null,
      "outputs": []
    },
    {
      "cell_type": "markdown",
      "source": [
        "Код для окончания дефекта (только полукруг, глубина не учитывается)"
      ],
      "metadata": {
        "id": "EIM46t_RQxLn"
      }
    },
    {
      "cell_type": "code",
      "source": [
        "def local_mesh_without_deep(r,lef,top,w):\n",
        "    p=4\n",
        "    m=3\n",
        "    \n",
        "    #бока\n",
        "    nl11,el11=sidl(lef-w,top-w,w,8)\n",
        "    nl12,el12=sidl(lef-w,top-2*w,w,8)\n",
        "    nl13,el13=sidl(lef-w,top-3*w,w,8)\n",
        "    nl14,el14=sidl(lef-w,top-4*w,w,8)\n",
        "    nl15,el15=conl(lef-w,top-5*w,w)\n",
        "    nl21,el21=sidr(lef+w,top-w,w,8)\n",
        "    nl22,el22=sidr(lef+w,top-2*w,w,8)\n",
        "    nl23,el23=sidr(lef+w,top-3*w,w,8)\n",
        "    nl24,el24=sidr(lef+w,top-4*w,w,8)\n",
        "    nl25,el25=conr(lef+w,top-5*w,w)\n",
        "\n",
        "    \n",
        "    # область II и симметричная ей II'\n",
        "    NLII,ELII = half_circle1(lef,top-r,r,w/2,p,2)\n",
        "    #def half_circle1(x0,y0,delta,h,p,m)\n",
        "    NLII1,ELII1 = half_circle2(lef+w/2,top-r,r,w/2,p,2)\n",
        "    #paint(NLII1,ELII1)\n",
        "    #paint(NLII,ELII)\n",
        "    # область III заполняется как прямоугольник\n",
        "    \n",
        "    NLa,ELa = uniform_function_(lef,top-2,w,w-r,p*2,m*2)\n",
        "    NLb,ELb = uniform_function_(lef,top-4,w,w,p*2,8)\n",
        "    NLc,ELc = uniform_function_(lef,top-6,w,w,p*2,8)\n",
        "    NLe,ELe = uniform_function_(lef,top-8,w,w,p*2,8)\n",
        "    NLf,ELf=sidd(lef,top-5*w,w,8)\n",
        "    \n",
        "    #левая часть\n",
        "    NLl,ELl = uni(nl15,el15,nl14,el14)\n",
        "    NLl,ELl = uni(NLl,ELl,nl13,el13)\n",
        "    NLl,ELl = uni(NLl,ELl,nl12,el12)\n",
        "    NLl,ELl = uni(NLl,ELl,nl11,el11)\n",
        "    print(len(ELl),len(el11)+len(el12)+len(el13)+len(el14)+len(el15))\n",
        "   \n",
        "    #правая часть\n",
        "    NLr,ELr = uni(nl21,el21,nl22,el22)\n",
        "    NLr,ELr = uni(NLr,ELr,nl23,el23)\n",
        "    NLr,ELr = uni(NLr,ELr,nl24,el24)\n",
        "    NLr,ELr = uni(NLr,ELr,nl25,el25)\n",
        "   \n",
        "    #центр\n",
        "    NLm,ELm = uni(NLII,ELII,NLII1,ELII1)\n",
        "    NLm,ELm = uni(NLm,ELm,NLa,ELa)\n",
        "    NLm,ELm = uni(NLm,ELm,NLb,ELb)\n",
        "    NLm,ELm = uni(NLm,ELm,NLc,ELc)\n",
        "    NLm,ELm = uni(NLm,ELm,NLe,ELe)\n",
        "    NLm,ELm = uni(NLm,ELm,NLf,ELf)\n",
        "    \n",
        "    \n",
        "    NL_,EL_ = uni(NLr,ELr,NLm,ELm)\n",
        "    NL_,EL_ = uni(NL_,EL_,NLl,ELl)\n",
        "    print(len(EL_),len(ELm)+len(ELr)+len(ELl))\n",
        "    paint(NL_,EL_)\n",
        "    return NL_,EL_"
      ],
      "metadata": {
        "id": "JMSB80ttEvEI"
      },
      "execution_count": null,
      "outputs": []
    },
    {
      "cell_type": "code",
      "source": [
        "def local_mesh1(r,lef,top,w):\n",
        "    p=4\n",
        "    m=3\n",
        "    \n",
        "    #бока\n",
        "    nl11,el11=sidl(lef-w,top-w,w,8)\n",
        "    nl12,el12=sidl(lef-w,top-2*w,w,8)\n",
        "    \n",
        "    nl15,el15=conl(lef-w,top-3*w,w)\n",
        "    nl21,el21=sidr(lef+w,top-w,w,8)\n",
        "    nl22,el22=sidr(lef+w,top-2*w,w,8)\n",
        "    \n",
        "    nl25,el25=conr(lef+w,top-3*w,w)\n",
        "\n",
        "    \n",
        "    # область II и симметричная ей II'\n",
        "    NLII,ELII = half_circle1(lef,top-r,r,w/2,p,2)\n",
        "    #def half_circle1(x0,y0,delta,h,p,m)\n",
        "    NLII1,ELII1 = half_circle2(lef+w/2,top-r,r,w/2,p,2)\n",
        "    #paint(NLII1,ELII1)\n",
        "    #paint(NLII,ELII)\n",
        "    # область III заполняется как прямоугольник\n",
        "    \n",
        "    NLa,ELa = uniform_function_(lef,top-2,w,w-r,p*2,m*2)\n",
        "    NLb,ELb = uniform_function_(lef,top-4,w,w,p*2,8)\n",
        "    \n",
        "    NLf,ELf=sidd(lef,top-3*w,w,8)\n",
        "    \n",
        "    #левая часть\n",
        "    NLl,ELl = uni(nl15,el15,nl12,el12)\n",
        "    \n",
        "    NLl,ELl = uni(NLl,ELl,nl11,el11)\n",
        "    print(len(ELl),len(el11)+len(el12)+len(el15))\n",
        "   \n",
        "    #правая часть\n",
        "    NLr,ELr = uni(nl21,el21,nl22,el22)\n",
        "    \n",
        "    NLr,ELr = uni(NLr,ELr,nl25,el25)\n",
        "   \n",
        "    #центр\n",
        "    NLm,ELm = uni(NLII,ELII,NLII1,ELII1)\n",
        "    NLm,ELm = uni(NLm,ELm,NLa,ELa)\n",
        "    NLm,ELm = uni(NLm,ELm,NLb,ELb)\n",
        "    \n",
        "    NLm,ELm = uni(NLm,ELm,NLf,ELf)\n",
        "    \n",
        "    \n",
        "    NL_,EL_ = uni(NLr,ELr,NLm,ELm)\n",
        "    NL_,EL_ = uni(NL_,EL_,NLl,ELl)\n",
        "    print(len(EL_),len(ELm)+len(ELr)+len(ELl))\n",
        "    paint(NL_,EL_)\n",
        "    return NL_,EL_"
      ],
      "metadata": {
        "id": "7qEciL1n6dvN"
      },
      "execution_count": null,
      "outputs": []
    },
    {
      "cell_type": "code",
      "source": [
        "def local_mesh2(r,lef,top,w):\n",
        "    p=4\n",
        "    m=3\n",
        "    \n",
        "    #бока\n",
        "    nl11,el11=sidl(lef-w,top-w,w,8)\n",
        "    nl15,el15=conl(lef-w,top-2*w,w)\n",
        "    nl21,el21=sidr(lef+w,top-w,w,8)\n",
        "    nl25,el25=conr(lef+w,top-2*w,w)\n",
        "\n",
        "    \n",
        "    # область II и симметричная ей II'\n",
        "    NLII,ELII = half_circle1(lef,top-r,r,w/2,p,2)\n",
        "    #def half_circle1(x0,y0,delta,h,p,m)\n",
        "    NLII1,ELII1 = half_circle2(lef+w/2,top-r,r,w/2,p,2)\n",
        "    #paint(NLII1,ELII1)\n",
        "    #paint(NLII,ELII)\n",
        "    # область III заполняется как прямоугольник\n",
        "    \n",
        "    NLa,ELa = uniform_function_(lef,top-2,w,w-r,p*2,m*2)\n",
        "       \n",
        "    NLf,ELf=sidd(lef,top-2*w,w,8)\n",
        "    \n",
        "    #левая часть\n",
        "    NLl,ELl = uni(nl15,el15,nl11,el11)\n",
        "    \n",
        "    print(len(ELl),len(el11)+len(el15))\n",
        "   \n",
        "    #правая часть\n",
        "    NLr,ELr = uni(nl21,el21,nl25,el25)\n",
        "    \n",
        "    #центр\n",
        "    NLm,ELm = uni(NLII,ELII,NLII1,ELII1)\n",
        "    NLm,ELm = uni(NLm,ELm,NLa,ELa)\n",
        "  \n",
        "    \n",
        "    NLm,ELm = uni(NLm,ELm,NLf,ELf)\n",
        "    \n",
        "    \n",
        "    NL_,EL_ = uni(NLr,ELr,NLm,ELm)\n",
        "    NL_,EL_ = uni(NL_,EL_,NLl,ELl)\n",
        "    print(len(EL_),len(ELm)+len(ELr)+len(ELl))\n",
        "    paint(NL_,EL_)\n",
        "    return NL_,EL_"
      ],
      "metadata": {
        "id": "KIINeEcf91TS"
      },
      "execution_count": null,
      "outputs": []
    },
    {
      "cell_type": "code",
      "source": [
        "def local_mesh21(r,lef,top,w):\n",
        "    p=4\n",
        "    m=3\n",
        "    \n",
        "    #бока\n",
        "    nl11,el11=sidl1(lef-w,top-w,w,8)\n",
        "    nl15,el15=conl(lef-w,top-2*w,w)\n",
        "    nl21,el21=sidr1(lef+w,top-w,w,8)\n",
        "    nl25,el25=conr(lef+w,top-2*w,w)\n",
        "\n",
        "    \n",
        "    # область II и симметричная ей II'\n",
        "    NLII,ELII = half_circle1(lef,top-r,r,w/2,p,4)\n",
        "    #def half_circle1(x0,y0,delta,h,p,m)\n",
        "    NLII1,ELII1 = half_circle2(lef+w/2,top-r,r,w/2,p,4)\n",
        "    #paint(NLII1,ELII1)\n",
        "    #paint(NLII,ELII)\n",
        "    # область III заполняется как прямоугольник\n",
        "    \n",
        "    NLa,ELa = uniform_function_(lef,top-2,w,w-r,p*2,m*4)\n",
        "       \n",
        "    NLf,ELf=sidd(lef,top-2*w,w,8)\n",
        "    \n",
        "    #левая часть\n",
        "    NLl,ELl = uni(nl15,el15,nl11,el11)\n",
        "    \n",
        "    print(len(ELl),len(el11)+len(el15))\n",
        "   \n",
        "    #правая часть\n",
        "    NLr,ELr = uni(nl21,el21,nl25,el25)\n",
        "    \n",
        "    #центр\n",
        "    NLm,ELm = uni(NLII,ELII,NLII1,ELII1)\n",
        "    NLm,ELm = uni(NLm,ELm,NLa,ELa)\n",
        "  \n",
        "    \n",
        "    NLm,ELm = uni(NLm,ELm,NLf,ELf)\n",
        "    \n",
        "    \n",
        "    NL_,EL_ = uni(NLr,ELr,NLm,ELm)\n",
        "    NL_,EL_ = uni(NL_,EL_,NLl,ELl)\n",
        "    print(len(EL_),len(ELm)+len(ELr)+len(ELl))\n",
        "    paint(NL_,EL_)\n",
        "    return NL_,EL_"
      ],
      "metadata": {
        "id": "uHB6kzvC_zYL"
      },
      "execution_count": null,
      "outputs": []
    },
    {
      "cell_type": "code",
      "source": [
        "def local_mesh3(r,lef,top,w):\n",
        "    p=4\n",
        "    m=3\n",
        "    \n",
        "    \n",
        "    # область II и симметричная ей II'\n",
        "    NLII,ELII = half_circle1(lef,top-r,r,w/2,p,4)\n",
        "    #def half_circle1(x0,y0,delta,h,p,m)\n",
        "    NLII1,ELII1 = half_circle2(lef+w/2,top-r,r,w/2,p,4)\n",
        "    #paint(NLII1,ELII1)\n",
        "    #paint(NLII,ELII)\n",
        "    # область III заполняется как прямоугольник\n",
        "    \n",
        "    NLa,ELa = uniform_function_(lef,top-2,w,w-r,p*2,m*4)\n",
        "       \n",
        "   \n",
        "    \n",
        "    #центр\n",
        "    NLm,ELm = uni(NLII,ELII,NLII1,ELII1)\n",
        "    NL_,EL_ = uni(NLm,ELm,NLa,ELa)\n",
        "  \n",
        "  \n",
        "    paint(NL_,EL_)\n",
        "    return NL_,EL_"
      ],
      "metadata": {
        "id": "9z6p8X6GAzUs"
      },
      "execution_count": null,
      "outputs": []
    },
    {
      "cell_type": "markdown",
      "source": [
        "#Подробное описание функций выше"
      ],
      "metadata": {
        "id": "ZJa-TY3YZjXs"
      }
    },
    {
      "cell_type": "markdown",
      "source": [
        "\n",
        "\n",
        "1. uniform_function_(x0,y0,d1,d2,p,m)\n",
        "Задаёт сетку для прямоугольника.\n",
        "*   x0 - координата по горизонтали левой нижней точки прямоугольника \n",
        "*   y0 - координата по вертикали левой нижней точки прямоугольника \n",
        "*  d1 - ширина прямоугольника \n",
        "* d2 - высота прямоугольника\n",
        "* p - количество элементов по горизонтали \n",
        "* m - количество элементов по вертикали \n",
        "2. half_circle1(x0,y0,r,w,p,m)\n",
        "Задаёт сетку на четырёхугольнике, где правая сторона - четверть дуги\n",
        "* x0 - координата по горизонтали левой нижней точки\n",
        "* y0 - координата по вертикали левой нижней точки\n",
        "* w - максимальная ширина четырёхугольника\n",
        "* r - радиус дуги\n",
        "* p - количество элементов по горизонтали \n",
        "* m - количество элементов по вертикали \n",
        "3. half_circle2(x0,y0,delta,w,p,m)\n",
        "Задаёт сетку на четырёхугольнике, где левая сторона - четверть дуги\n",
        "* x0 - координата по горизонтали левой нижней точки\n",
        "* y0 - координата по вертикали левой нижней точки\n",
        "* w - максимальная ширина четырёхугольника\n",
        "* r - радиус дуги\n",
        "* p - количество элементов по горизонтали \n",
        "* m - количество элементов по вертикали\n",
        "4. local_mesh_without_deep(r,lef,top,w)\n",
        "Разбивает !квадрат! на локальную сетку, если у дефекта ещё нет глубины\n",
        "* r - радиус дефекта\n",
        "* lef - координата левой границы квадрата\n",
        "* top - верхняя граница квадрата\n",
        "* w - длина стороны квадрата\n",
        "5. local_mesh(r,lef,w,top,deep)\n",
        "Разбивает !квадрат! на локальную сетку\n",
        "* r - радиус дефекта\n",
        "* lef - координата левой границы квадрата\n",
        "* top - верхняя граница квадрата\n",
        "* w - длина стороны квадрата\n",
        "* deep - глубина деекта без учёта радиуса\n",
        "\n"
      ],
      "metadata": {
        "id": "HbkhbZqiZyIw"
      }
    },
    {
      "cell_type": "markdown",
      "source": [
        "# Новая(правильная) локальная сетка"
      ],
      "metadata": {
        "id": "Yuil8O-PObFB"
      }
    },
    {
      "cell_type": "code",
      "source": [
        "def paint(cord,elem):\n",
        "    x0, y0 = cord[elem[:,0]-1,0], cord[elem[:,0]-1,1]\n",
        "    x1, y1 = cord[elem[:,1]-1,0], cord[elem[:,1]-1,1]\n",
        "    x2, y2 = cord[elem[:,2]-1,0], cord[elem[:,2]-1,1]\n",
        "    plt.plot(np.array([x0,x1]),np.array([y0,y1]),'black',linewidth=0.5);\n",
        "    plt.plot(np.array([x1,x2]),np.array([y1,y2]),'black',linewidth=0.5);\n",
        "    plt.plot(np.array([x2,x0]),np.array([y2,y0]),'black',linewidth=0.5);\n",
        "    plt.axis('equal')\n",
        "    #for i in range(len(cord)):\n",
        "     # plt.annotate(i+1,xy = (cord[i,0]+0.02,cord[i,1]),c=\"red\")\n",
        "    #count2=1\n",
        "    #for j in range(0,len(elem)):\n",
        "     #   plt.annotate(count2,xy = ((cord[elem[j,0]-1,0]+cord[elem[j,1]-1,0]+cord[elem[j,2]-1,0])/3,(cord[elem[j,0]-1,1]+cord[elem[j,1]-1,1]+cord[elem[j,2]-1,1])/3),c = 'blue')\n",
        "      #  count2 += 1\n",
        "    \n",
        "    #plt.grid()\n",
        "    return "
      ],
      "metadata": {
        "id": "gretliFjyxna"
      },
      "execution_count": null,
      "outputs": []
    },
    {
      "cell_type": "markdown",
      "source": [
        "# сетка во всю высоту"
      ],
      "metadata": {
        "id": "MF9g7fY66UQO"
      }
    },
    {
      "cell_type": "code",
      "source": [
        "#начальная глубина равна 0\n",
        "deep = 0\n",
        "#считаем, на сколько квадратов надо уйти в глубину\n",
        "sqcount = ma.ceil(deep)\n",
        "#обозначаем боковые границы элементов, которых касается дефект\n",
        "left_b = h*5+2*h/5\n",
        "right_b = 5*h+3*h/5\n",
        "#проверим есть ли такие узлы в глобальной сетке\n",
        "#for c in NL:\n",
        " # if c[0]==left_b:\n",
        "  #  print('its left ',c)\n",
        "  #elif c[0]==right_b:\n",
        "   # print('its right ',c)\n",
        "\n",
        "if deep == 0: \n",
        "  NLgl,ELgl = local_mesh_without_deep(delta,left_b,h,h/5)\n",
        "ELgl = ELgl - np.ones((ELgl.shape[0],ELgl.shape[1]))\n",
        "ELgl = ELgl.astype(int)"
      ],
      "metadata": {
        "id": "KEqedkmtOVqQ",
        "colab": {
          "base_uri": "https://localhost:8080/"
        },
        "outputId": "fac0bb03-6c97-4a37-8f68-ee40fdc5b476"
      },
      "execution_count": null,
      "outputs": [
        {
          "output_type": "stream",
          "name": "stdout",
          "text": [
            "96 96\n",
            "725 725\n"
          ]
        },
        {
          "output_type": "display_data",
          "data": {
            "text/plain": [
              "<Figure size 640x480 with 1 Axes>"
            ],
            "image/png": "[encoded data removed]"
          },
          "metadata": {}
        }
      ]
    },
    {
      "cell_type": "code",
      "execution_count": null,
      "metadata": {
        "id": "0hoyHPctlEZJ"
      },
      "outputs": [],
      "source": [
        "\n",
        "\n",
        "ln = len(NLgl)\n",
        "le = len(ELgl)\n",
        "left_b=left_b-h/5\n",
        "right_b=right_b+h/5\n",
        "Ugl = np.zeros((ln*2,1))\n",
        "for i in range(len(NL)):\n",
        "    if abs(left_b-NL[i,0])<h/1000 or abs(right_b-NL[i,0])<h/1000 :\n",
        "        for j in range(ln):\n",
        "          if abs(NLgl[j,0]-NL[i,0])<h/10000 and abs(NLgl[j,1]-NL[i,1])<h/10000:\n",
        "              #print(NLgl[j,0],NL[i,0],NLgl[j,1],NL[i,1])\n",
        "              #print(U[i*2],U[i*2+1])\n",
        "              Ugl[j*2] = U[i*2]\n",
        "              Ugl[j*2+1] = U[i*2+1]\n",
        "    \n"
      ]
    },
    {
      "cell_type": "code",
      "execution_count": null,
      "metadata": {
        "id": "jylWp9VwlEZK"
      },
      "outputs": [],
      "source": [
        "K0 = np.zeros((ln*2,ln*2))\n",
        "for i in range(0,le):\n",
        "    ind = ELgl[i,:]\n",
        "    K0 = sum_K(K0,make_K(i,ELgl,NLgl,D),ind,i)"
      ]
    },
    {
      "cell_type": "code",
      "execution_count": null,
      "metadata": {
        "id": "lH2vy_ZUlEZK"
      },
      "outputs": [],
      "source": [
        "rig = np.zeros((1,ln*2))\n",
        "#нулевой вектор правой части\n",
        "rig1 = -K0.dot(Ugl)\n",
        "#вектор правой части после умножения на вектор известных премещений\n",
        "for i in range(2*ln): #учёт не нулей\n",
        "    if abs(Ugl[i])>0:\n",
        "        K0[i,:] = K0[i,:]*0\n",
        "        K0[:,i] = K0[:,i]*0\n",
        "        K0[i,i] = 1\n",
        "        rig1[i]=Ugl[i]\n",
        "Ufin = np.linalg.solve(K0,rig1)\n",
        "\n",
        "#print(len(Ugl),len(Ufin))\n",
        "#for i in range(len(Ufin)):\n",
        "  #print(Ugl[i],Ufin[i])\n",
        "  #if abs(Ugl[i])>0:\n",
        "    #Ufin[i]=Ugl[i]\n",
        "    #print(1,Ugl[i],Ufin[i])\n",
        "Ufin = Ufin+Ugl"
      ]
    },
    {
      "cell_type": "markdown",
      "source": [
        "#сетка на три квадрата"
      ],
      "metadata": {
        "id": "Cr1FNiF67Klc"
      }
    },
    {
      "cell_type": "code",
      "source": [
        "left_b = h*5+2*h/5\n",
        "right_b = 5*h+3*h/5\n",
        "NLgl,ELgl = local_mesh1(delta,left_b,h,h/5)\n",
        "ELgl = ELgl - np.ones((ELgl.shape[0],ELgl.shape[1]))\n",
        "ELgl = ELgl.astype(int)\n",
        "ln = len(NLgl)\n",
        "le = len(ELgl)\n",
        "left_b=left_b-h/5\n",
        "right_b=right_b+h/5\n",
        "Ugl = np.zeros((ln*2,1))\n",
        "for i in range(len(NL)):\n",
        "    if abs(left_b-NL[i,0])<h/1000 or abs(right_b-NL[i,0])<h/1000 or abs(4-NL[i,1])<h/1000:\n",
        "        for j in range(ln):\n",
        "          if abs(NLgl[j,0]-NL[i,0])<h/10000 and abs(NLgl[j,1]-NL[i,1])<h/10000:\n",
        "              #print(NLgl[j,0],NL[i,0],NLgl[j,1],NL[i,1])\n",
        "              #print(U[i*2],U[i*2+1])\n",
        "              Ugl[j*2] = U[i*2]\n",
        "              Ugl[j*2+1] = U[i*2+1]\n",
        "K0 = np.zeros((ln*2,ln*2))\n",
        "for i in range(0,le):\n",
        "    ind = ELgl[i,:]\n",
        "    K0 = sum_K(K0,make_K(i,ELgl,NLgl,D),ind,i)\n",
        "rig = np.zeros((1,ln*2))\n",
        "#нулевой вектор правой части\n",
        "rig1 = -K0.dot(Ugl)\n",
        "#вектор правой части после умножения на вектор известных премещений\n",
        "for i in range(2*ln): #учёт не нулей\n",
        "    if abs(Ugl[i])>0:\n",
        "        K0[i,:] = K0[i,:]*0\n",
        "        K0[:,i] = K0[:,i]*0\n",
        "        K0[i,i] = 1\n",
        "        rig1[i]=Ugl[i]\n",
        "Ufin = np.linalg.solve(K0,rig1)\n",
        "\n",
        "#print(len(Ugl),len(Ufin))\n",
        "#for i in range(len(Ufin)):\n",
        "  #print(Ugl[i],Ufin[i])\n",
        "  #if abs(Ugl[i])>0:\n",
        "    #Ufin[i]=Ugl[i]\n",
        "    #print(1,Ugl[i],Ufin[i])\n",
        "Ufin = Ufin+Ugl"
      ],
      "metadata": {
        "colab": {
          "base_uri": "https://localhost:8080/"
        },
        "id": "dATCadL67Qe7",
        "outputId": "2be1e072-2d9d-43ba-9f0b-65c344e5d1bd"
      },
      "execution_count": null,
      "outputs": [
        {
          "output_type": "stream",
          "name": "stdout",
          "text": [
            "54 54\n",
            "385 385\n"
          ]
        },
        {
          "output_type": "display_data",
          "data": {
            "text/plain": [
              "<Figure size 640x480 with 1 Axes>"
            ],
            "image/png": "[encoded data removed]"
          },
          "metadata": {}
        }
      ]
    },
    {
      "cell_type": "code",
      "source": [],
      "metadata": {
        "id": "t9YKmKTD-SVX"
      },
      "execution_count": null,
      "outputs": []
    },
    {
      "cell_type": "markdown",
      "source": [
        "# сетка в два квадрата"
      ],
      "metadata": {
        "id": "NpyzGPXq-VAC"
      }
    },
    {
      "cell_type": "code",
      "source": [
        "left_b = h*5+2*h/5\n",
        "right_b = 5*h+3*h/5\n",
        "NLgl,ELgl = local_mesh2(delta,left_b,h,h/5)\n",
        "ELgl = ELgl - np.ones((ELgl.shape[0],ELgl.shape[1]))\n",
        "ELgl = ELgl.astype(int)\n",
        "ln = len(NLgl)\n",
        "le = len(ELgl)\n",
        "left_b=left_b-h/5\n",
        "right_b=right_b+h/5\n",
        "Ugl = np.zeros((ln*2,1))\n",
        "for i in range(len(NL)):\n",
        "    if abs(left_b-NL[i,0])<h/1000 or abs(right_b-NL[i,0])<h/1000 or abs(6-NL[i,1])<h/1000:\n",
        "        for j in range(ln):\n",
        "          if abs(NLgl[j,0]-NL[i,0])<h/10000 and abs(NLgl[j,1]-NL[i,1])<h/10000:\n",
        "              #print(NLgl[j,0],NL[i,0],NLgl[j,1],NL[i,1])\n",
        "              #print(U[i*2],U[i*2+1])\n",
        "              Ugl[j*2] = U[i*2]\n",
        "              Ugl[j*2+1] = U[i*2+1]\n",
        "K0 = np.zeros((ln*2,ln*2))\n",
        "for i in range(0,le):\n",
        "    ind = ELgl[i,:]\n",
        "    K0 = sum_K(K0,make_K(i,ELgl,NLgl,D),ind,i)\n",
        "rig = np.zeros((1,ln*2))\n",
        "#нулевой вектор правой части\n",
        "rig1 = -K0.dot(Ugl)\n",
        "#вектор правой части после умножения на вектор известных премещений\n",
        "for i in range(2*ln): #учёт не нулей\n",
        "    if abs(Ugl[i])>0:\n",
        "        K0[i,:] = K0[i,:]*0\n",
        "        K0[:,i] = K0[:,i]*0\n",
        "        K0[i,i] = 1\n",
        "        rig1[i]=Ugl[i]\n",
        "Ufin = np.linalg.solve(K0,rig1)\n",
        "\n",
        "#print(len(Ugl),len(Ufin))\n",
        "#for i in range(len(Ufin)):\n",
        "  #print(Ugl[i],Ufin[i])\n",
        "  #if abs(Ugl[i])>0:\n",
        "    #Ufin[i]=Ugl[i]\n",
        "    #print(1,Ugl[i],Ufin[i])\n",
        "Ufin = Ufin+Ugl"
      ],
      "metadata": {
        "colab": {
          "base_uri": "https://localhost:8080/"
        },
        "id": "4vkbE1-p-Yct",
        "outputId": "902fd930-71f6-44e2-efaf-65d25f4ca256"
      },
      "execution_count": null,
      "outputs": [
        {
          "output_type": "stream",
          "name": "stdout",
          "text": [
            "33 33\n",
            "215 215\n"
          ]
        },
        {
          "output_type": "display_data",
          "data": {
            "text/plain": [
              "<Figure size 640x480 with 1 Axes>"
            ],
            "image/png": "[encoded data removed]"
          },
          "metadata": {}
        }
      ]
    },
    {
      "cell_type": "markdown",
      "source": [
        "# частая сетка в два квадрата"
      ],
      "metadata": {
        "id": "GEWjlrYUAAqW"
      }
    },
    {
      "cell_type": "code",
      "source": [
        "left_b = h*5+2*h/5\n",
        "right_b = 5*h+3*h/5\n",
        "NLgl,ELgl = local_mesh21(delta,left_b,h,h/5)\n",
        "ELgl = ELgl - np.ones((ELgl.shape[0],ELgl.shape[1]))\n",
        "ELgl = ELgl.astype(int)\n",
        "ln = len(NLgl)\n",
        "le = len(ELgl)\n",
        "left_b=left_b-h/5\n",
        "right_b=right_b+h/5\n",
        "Ugl = np.zeros((ln*2,1))\n",
        "for i in range(len(NL)):\n",
        "    if abs(left_b-NL[i,0])<h/1000 or abs(right_b-NL[i,0])<h/1000 or abs(6-NL[i,1])<h/1000:\n",
        "        for j in range(ln):\n",
        "          if abs(NLgl[j,0]-NL[i,0])<h/10000 and abs(NLgl[j,1]-NL[i,1])<h/10000:\n",
        "              #print(NLgl[j,0],NL[i,0],NLgl[j,1],NL[i,1])\n",
        "              #print(U[i*2],U[i*2+1])\n",
        "              Ugl[j*2] = U[i*2]\n",
        "              Ugl[j*2+1] = U[i*2+1]\n",
        "K0 = np.zeros((ln*2,ln*2))\n",
        "for i in range(0,le):\n",
        "    ind = ELgl[i,:]\n",
        "    K0 = sum_K(K0,make_K(i,ELgl,NLgl,D),ind,i)\n",
        "rig = np.zeros((1,ln*2))\n",
        "#нулевой вектор правой части\n",
        "rig1 = -K0.dot(Ugl)\n",
        "#вектор правой части после умножения на вектор известных премещений\n",
        "for i in range(2*ln): #учёт не нулей\n",
        "    if abs(Ugl[i])>0:\n",
        "        K0[i,:] = K0[i,:]*0\n",
        "        K0[:,i] = K0[:,i]*0\n",
        "        K0[i,i] = 1\n",
        "        rig1[i]=Ugl[i]\n",
        "Ufin = np.linalg.solve(K0,rig1)\n",
        "\n",
        "#print(len(Ugl),len(Ufin))\n",
        "#for i in range(len(Ufin)):\n",
        "  #print(Ugl[i],Ufin[i])\n",
        "  #if abs(Ugl[i])>0:\n",
        "    #Ufin[i]=Ugl[i]\n",
        "    #print(1,Ugl[i],Ufin[i])\n",
        "Ufin = Ufin+Ugl"
      ],
      "metadata": {
        "colab": {
          "base_uri": "https://localhost:8080/"
        },
        "id": "0UpeHn5zAJVa",
        "outputId": "9c561189-2881-4f5e-b676-7717c3da9a31"
      },
      "execution_count": null,
      "outputs": [
        {
          "output_type": "stream",
          "name": "stdout",
          "text": [
            "41 41\n",
            "359 359\n"
          ]
        },
        {
          "output_type": "display_data",
          "data": {
            "text/plain": [
              "<Figure size 640x480 with 1 Axes>"
            ],
            "image/png": "[encoded data removed]"
          },
          "metadata": {}
        }
      ]
    },
    {
      "cell_type": "markdown",
      "source": [
        "# аппроксимация частая 1 квадрат"
      ],
      "metadata": {
        "id": "2dHYsyeBAnpR"
      }
    },
    {
      "cell_type": "code",
      "source": [
        "left_b = h*5+2*h/5\n",
        "right_b = 5*h+3*h/5\n",
        "NLgl,ELgl = local_mesh3(delta,left_b,h,h/5)\n",
        "ELgl = ELgl - np.ones((ELgl.shape[0],ELgl.shape[1]))\n",
        "ELgl = ELgl.astype(int)\n",
        "ln = len(NLgl)\n",
        "le = len(ELgl)\n",
        "\n",
        "Ugl = np.zeros((ln*2,1))\n",
        "ea = NL[251,:]\n",
        "eb = NL[252,:]\n",
        "ec = NL[307,:]\n",
        "ed = NL[308,:]\n",
        "count = 0\n",
        "count1 = 0\n",
        "for i in range(ln):\n",
        "  if abs(8-NLgl[i,1])<h/1000:\n",
        "    count+=1\n",
        "for i in range(ln):\n",
        "  if abs(8-NLgl[i,1])<h/1000:\n",
        "    Ugl[i*2] = U[251*2]*count1/count + U[252*2]*(count-count1)/count\n",
        "    Ugl[i*2+1] = U[251*2+1]*count1/count + U[252*2+1]*(count-count1)/count  \n",
        "    count1+=1 \n",
        "count = 0\n",
        "count1=0\n",
        "for i in range(ln):\n",
        "  if abs(left_b-NLgl[i,0])<h/1000:\n",
        "    count+=1\n",
        "for i in range(ln):\n",
        "  if abs(left_b-NLgl[i,0])<h/1000:\n",
        "    Ugl[i*2] = U[251*2]*count1/count + U[307*2]*(count-count1)/count \n",
        "    Ugl[i*2+1] = U[251*2+1]*count1/count + U[307*2+1]*(count-count1)/count \n",
        "    count1+=1 \n",
        "count1=0\n",
        "count = 0\n",
        "for i in range(ln):\n",
        "  if abs(right_b-NLgl[i,0])<h/1000:\n",
        "    count+=1\n",
        "for i in range(ln):\n",
        "  if abs(right_b-NLgl[i,0])<h/1000:\n",
        "    Ugl[i*2] = U[252*2]*count1/count + U[308*2]*(count-count1)/count \n",
        "    Ugl[i*2+1] = U[252*2+1]*count1/count + U[308*2+1]*(count-count1)/count \n",
        "    count1+=1 \n",
        "\n",
        "\n",
        "#for i in range(len(NL)):\n",
        " #   if abs(left_b-NL[i,0])<h/1000 or abs(right_b-NL[i,0])<h/1000 or abs(8-NL[i,1])<h/1000:\n",
        "  #      for j in range(ln):\n",
        "   #       if abs(NLgl[j,0]-NL[i,0])<h/10000 and abs(NLgl[j,1]-NL[i,1])<h/10000:\n",
        "    #          print(NLgl[j,0],NL[i,0],NLgl[j,1],NL[i,1],i,j)\n",
        "     #         print(U[i*2],U[i*2+1])\n",
        "      #        Ugl[j*2] = U[i*2]\n",
        "       #       Ugl[j*2+1] = U[i*2+1]\n",
        "K0 = np.zeros((ln*2,ln*2))\n",
        "for i in range(0,le):\n",
        "    ind = ELgl[i,:]\n",
        "    K0 = sum_K(K0,make_K(i,ELgl,NLgl,D),ind,i)\n",
        "rig = np.zeros((1,ln*2))\n",
        "#нулевой вектор правой части\n",
        "rig1 = -K0.dot(Ugl)\n",
        "#вектор правой части после умножения на вектор известных премещений\n",
        "for i in range(2*ln): #учёт не нулей\n",
        "    if abs(Ugl[i])>0:\n",
        "        K0[i,:] = K0[i,:]*0\n",
        "        K0[:,i] = K0[:,i]*0\n",
        "        K0[i,i] = 1\n",
        "        rig1[i]=Ugl[i]\n",
        "Ufin = np.linalg.solve(K0,rig1)\n",
        "\n",
        "#print(len(Ugl),len(Ufin))\n",
        "#for i in range(len(Ufin)):\n",
        "  #print(Ugl[i],Ufin[i])\n",
        "  #if abs(Ugl[i])>0:\n",
        "    #Ufin[i]=Ugl[i]\n",
        "    #print(1,Ugl[i],Ufin[i])\n",
        "Ufin = Ufin+Ugl"
      ],
      "metadata": {
        "colab": {
          "base_uri": "https://localhost:8080/",
          "height": 430
        },
        "id": "xWtb0p_5AtVz",
        "outputId": "95506827-ca8c-49aa-e59c-6252ace06674"
      },
      "execution_count": null,
      "outputs": [
        {
          "output_type": "display_data",
          "data": {
            "text/plain": [
              "<Figure size 640x480 with 1 Axes>"
            ],
            "image/png": "[encoded data removed]"
          },
          "metadata": {}
        }
      ]
    },
    {
      "cell_type": "code",
      "source": [
        "left_b = h*5+2*h/5\n",
        "right_b = 5*h+3*h/5\n",
        "NLgl,ELgl = local_mesh3(delta,left_b,h,h/5)\n",
        "ELgl = ELgl - np.ones((ELgl.shape[0],ELgl.shape[1]))\n",
        "ELgl = ELgl.astype(int)\n",
        "ln = len(NLgl)\n",
        "le = len(ELgl)\n",
        "\n",
        "Ugl = np.zeros((ln*2,1))\n",
        "ea = NL[251,:]\n",
        "eb = NL[252,:]\n",
        "ec = NL[307,:]\n",
        "ed = NL[308,:]\n",
        "count = 0\n",
        "count1 = 0\n",
        "for i in range(ln):\n",
        "  if abs(8-NLgl[i,1])<h/1000:\n",
        "    count+=1\n",
        "for i in range(ln):\n",
        "  if abs(8-NLgl[i,1])<h/1000:\n",
        "    Ugl[i*2] = U[251*2]*count1/count + U[252*2]*(count-count1)/count\n",
        "    Ugl[i*2+1] = U[251*2+1]*count1/count + U[252*2+1]*(count-count1)/count  \n",
        "    count1+=1 \n",
        "\n",
        "count = 0\n",
        "count1 = 0\n",
        "for i in range(ln):\n",
        "  if abs(10-NLgl[i,1])<h/1000:\n",
        "    count+=1\n",
        "for i in range(ln):\n",
        "  if abs(8-NLgl[i,1])<h/1000:\n",
        "    Ugl[i*2] = U[307*2]*count1/count + U[308*2]*(count-count1)/count\n",
        "    Ugl[i*2+1] = U[307*2+1]*count1/count + U[308*2+1]*(count-count1)/count  \n",
        "    count1+=1 \n",
        "count = 0\n",
        "count1=0\n",
        "for i in range(ln):\n",
        "  if abs(left_b-NLgl[i,0])<h/1000:\n",
        "    count+=1\n",
        "for i in range(ln):\n",
        "  if abs(left_b-NLgl[i,0])<h/1000:\n",
        "    Ugl[i*2] = U[251*2]*count1/count + U[307*2]*(count-count1)/count \n",
        "    Ugl[i*2+1] = U[251*2+1]*count1/count + U[307*2+1]*(count-count1)/count \n",
        "    count1+=1 \n",
        "count1=0\n",
        "count = 0\n",
        "for i in range(ln):\n",
        "  if abs(right_b-NLgl[i,0])<h/1000:\n",
        "    count+=1\n",
        "for i in range(ln):\n",
        "  if abs(right_b-NLgl[i,0])<h/1000:\n",
        "    Ugl[i*2] = U[252*2]*count1/count + U[308*2]*(count-count1)/count \n",
        "    Ugl[i*2+1] = U[252*2+1]*count1/count + U[308*2+1]*(count-count1)/count \n",
        "    count1+=1 \n",
        "\n",
        "\n",
        "#for i in range(len(NL)):\n",
        " #   if abs(left_b-NL[i,0])<h/1000 or abs(right_b-NL[i,0])<h/1000 or abs(8-NL[i,1])<h/1000:\n",
        "  #      for j in range(ln):\n",
        "   #       if abs(NLgl[j,0]-NL[i,0])<h/10000 and abs(NLgl[j,1]-NL[i,1])<h/10000:\n",
        "    #          print(NLgl[j,0],NL[i,0],NLgl[j,1],NL[i,1],i,j)\n",
        "     #         print(U[i*2],U[i*2+1])\n",
        "      #        Ugl[j*2] = U[i*2]\n",
        "       #       Ugl[j*2+1] = U[i*2+1]\n",
        "K0 = np.zeros((ln*2,ln*2))\n",
        "for i in range(0,le):\n",
        "    ind = ELgl[i,:]\n",
        "    K0 = sum_K(K0,make_K(i,ELgl,NLgl,D),ind,i)\n",
        "rig = np.zeros((1,ln*2))\n",
        "#нулевой вектор правой части\n",
        "rig1 = -K0.dot(Ugl)\n",
        "#вектор правой части после умножения на вектор известных премещений\n",
        "for i in range(2*ln): #учёт не нулей\n",
        "    if abs(Ugl[i])>0:\n",
        "        K0[i,:] = K0[i,:]*0\n",
        "        K0[:,i] = K0[:,i]*0\n",
        "        K0[i,i] = 1\n",
        "        rig1[i]=Ugl[i]\n",
        "Ufin = np.linalg.solve(K0,rig1)\n",
        "\n",
        "#print(len(Ugl),len(Ufin))\n",
        "#for i in range(len(Ufin)):\n",
        "  #print(Ugl[i],Ufin[i])\n",
        "  #if abs(Ugl[i])>0:\n",
        "    #Ufin[i]=Ugl[i]\n",
        "    #print(1,Ugl[i],Ufin[i])\n",
        "Ufin = Ufin+Ugl"
      ],
      "metadata": {
        "colab": {
          "base_uri": "https://localhost:8080/",
          "height": 430
        },
        "id": "qnGjXsiDI8cA",
        "outputId": "a30eb531-fc0d-4c45-d8ad-c54b20c511e0"
      },
      "execution_count": null,
      "outputs": [
        {
          "output_type": "display_data",
          "data": {
            "text/plain": [
              "<Figure size 640x480 with 1 Axes>"
            ],
            "image/png": "[encoded data removed]"
          },
          "metadata": {}
        }
      ]
    },
    {
      "cell_type": "markdown",
      "source": [
        "# пример"
      ],
      "metadata": {
        "id": "N81orQ8JxcWB"
      }
    },
    {
      "cell_type": "code",
      "source": [
        "NL1,EL1 = uniform_function_(52,0,6,3,9,7)\n",
        "NL2,EL2 = uniform_function_(52,3,6,10,9,7)\n",
        "NLgl,ELgl = uni(NL1,EL1,NL2,EL2)\n",
        "paint(NLgl,ELgl )\n",
        "ELgl = ELgl - np.ones((ELgl.shape[0],ELgl.shape[1]))\n",
        "ELgl = ELgl.astype(int)"
      ],
      "metadata": {
        "colab": {
          "base_uri": "https://localhost:8080/"
        },
        "id": "KP1q2M2joeA3",
        "outputId": "2d822b35-735c-4dcf-9589-040806ecbbc8"
      },
      "execution_count": null,
      "outputs": [
        {
          "output_type": "display_data",
          "data": {
            "text/plain": [
              "<Figure size 640x480 with 1 Axes>"
            ],
            "image/png": "[encoded data removed]"
          },
          "metadata": {}
        }
      ]
    },
    {
      "cell_type": "code",
      "source": [
        "left_b=52\n",
        "right_b=58"
      ],
      "metadata": {
        "id": "e78sVhB2pSo8"
      },
      "execution_count": null,
      "outputs": []
    },
    {
      "cell_type": "code",
      "source": [
        "q=100\n",
        "eff = np.zeros((len(NLgl),2))\n",
        "for i in range(len(NLgl)):\n",
        "    if  abs(NLgl[i,0]-right_b) <1/10000 :\n",
        "        print(NLgl[i,0],right_b)\n",
        "        if NLgl[i,1] >= h or NLgl[i,1] == 0:\n",
        "            eff[i,0] = 10*q/5/2   \n",
        "        else: \n",
        "            eff[i,0] = 10*q/5\n",
        "rig = right(eff,len(NLgl))\n",
        "\n",
        "K0 = np.zeros((len(NLgl)*2,len(NLgl)*2))\n",
        "for i in range(0,len(ELgl)):\n",
        "  ind = ELgl[i,:]\n",
        "  K0 = sum_K(K0,make_K(i,ELgl,NLgl,D),ind,i)\n",
        "for i in range(len(NLgl)):\n",
        "      #закрепляем\n",
        "  if abs(NLgl[i,0]-left_b)<1/(p*m*1000):\n",
        "      K0[i*2,:] = K0[i,:]*0\n",
        "      K0[:,2*i] = K0[:,i]*0\n",
        "      K0[i*2,i*2] = 1  \n",
        "  if abs(NLgl[i,1])<1/(p*m*1000):\n",
        "      K0[i*2+1,:] = K0[i,:]*0\n",
        "      K0[:,2*i+1] = K0[:,i]*0\n",
        "      K0[i*2+1,i*2+1] = 1    \n",
        "Ufin = np.linalg.solve(K0,rig.T)"
      ],
      "metadata": {
        "id": "-E_FSg-Qw62B",
        "colab": {
          "base_uri": "https://localhost:8080/"
        },
        "outputId": "96b6645b-1a2c-4942-904f-2f4fb46fa7f7"
      },
      "execution_count": null,
      "outputs": [
        {
          "output_type": "stream",
          "name": "stdout",
          "text": [
            "58.0 58\n",
            "58.0 58\n",
            "58.0 58\n",
            "58.0 58\n",
            "58.0 58\n",
            "58.0 58\n",
            "58.0 58\n",
            "58.0 58\n",
            "58.0 58\n",
            "58.0 58\n",
            "58.0 58\n",
            "58.0 58\n",
            "58.0 58\n",
            "58.0 58\n",
            "58.0 58\n"
          ]
        }
      ]
    },
    {
      "cell_type": "markdown",
      "source": [
        "#..."
      ],
      "metadata": {
        "id": "tgL8aFZUxg8m"
      }
    },
    {
      "cell_type": "code",
      "execution_count": null,
      "metadata": {
        "id": "7RcuC4wJlEZK",
        "outputId": "07669f20-f295-4049-92d3-13bd9c973897",
        "colab": {
          "base_uri": "https://localhost:8080/",
          "height": 605
        }
      },
      "outputs": [
        {
          "output_type": "stream",
          "name": "stdout",
          "text": [
            "30255483.0959026\n",
            "28591790.91370284\n",
            "9332272.953850178\n",
            "24308178.804476224\n",
            "29854126.5796035\n",
            "28319463.992629718\n",
            "sigmamax =  1879951020.8088365\n",
            "[58.  0.] [56.  0.] [57.  1.]\n",
            "Количество элементов  725\n"
          ]
        },
        {
          "output_type": "display_data",
          "data": {
            "text/plain": [
              "<Figure size 640x480 with 1 Axes>"
            ],
            "image/png": "[encoded data removed]"
          },
          "metadata": {}
        }
      ],
      "source": [
        "ln = len(NLgl)\n",
        "le = len(ELgl)\n",
        "lnap = np.matrix([-1,-1,-1])\n",
        "max_sig = 0\n",
        "max_sig_i = -1\n",
        "m_s=0\n",
        "m_s_i=-1\n",
        "for i in range(le):\n",
        "    B = make_B(i,ELgl,NLgl,D)\n",
        "    Ui = np.zeros((6))\n",
        "    Ui[0] = Ufin[ELgl[i,0]*2]\n",
        "    Ui[1] = Ufin[ELgl[i,0]*2+1]\n",
        "    Ui[2] = Ufin[ELgl[i,1]*2]\n",
        "    Ui[3] = Ufin[ELgl[i,1]*2+1]  \n",
        "    Ui[4] = Ufin[ELgl[i,2]*2]\n",
        "    Ui[5] = Ufin[ELgl[i,2]*2+1]#деформации (эпсилон)    \n",
        "    Eps = B.dot(Ui)    # напряжения(сигма)\n",
        "    Nap = D.dot(Eps) \n",
        "    lnap = np.append(lnap,[[Nap[0],Nap[1],Nap[2]]],axis=0)\n",
        "    NapM = np.matrix([[Nap[0],Nap[2]],[Nap[2],Nap[1]]]) \n",
        "    now_sig = abs(Nap[0])\n",
        "    a = NLgl[ELgl[i,0],:]\n",
        "    b = NLgl[ELgl[i,1],:]\n",
        "    c = NLgl[ELgl[i,2],:]\n",
        "    #print(now_sig)\n",
        "    #e = plt.Polygon([a,b,c],color=[abs(now_sig)/1879951021,1 - abs(now_sig)/1879951021,abs(now_sig)/1879951021])\n",
        "    #e = plt.Polygon([a,b,c],color=[abs(now_sig)/4500,1 - abs(now_sig)/4500,abs(now_sig)/4500])\n",
        "    e = plt.Polygon([a,b,c],color=[abs(now_sig)/3820792693,1 - abs(now_sig)/3820792693,abs(now_sig)/3820792693])\n",
        "    plt.gca().add_patch(e)\n",
        "    #Sig,s = np.linalg.eig(NapM)         \n",
        "    #now_sig = ma.sqrt(Nap[0]**2-Nap[0]*Nap[1]+Nap[1]**2+3*Nap[2]**2)\n",
        "    if(NLgl[ELgl[i,2],0]==55 and NLgl[ELgl[i,2],1]==10-delta ):\n",
        "      print(now_sig)\n",
        "    if(NLgl[ELgl[i,1],0]==55 and NLgl[ELgl[i,1],1]==10-delta ):\n",
        "      print( now_sig)\n",
        "    if(NLgl[ELgl[i,0],0]==55 and NLgl[ELgl[i,0],1]==10-delta ):\n",
        "      print(now_sig)\n",
        "    if now_sig > max_sig:\n",
        "        max_sig = now_sig\n",
        "        #print(\"максимум \",max_sig)\n",
        "        max_sig_i = i\n",
        "    \n",
        "print(\"sigmamax = \",max_sig)\n",
        "a = NLgl[ELgl[max_sig_i,0],:]\n",
        "b = NLgl[ELgl[max_sig_i,1],:]\n",
        "c = NLgl[ELgl[max_sig_i,2],:]\n",
        "print(a,b,c)\n",
        "ELgl = ELgl + np.ones((ELgl.shape[0],ELgl.shape[1]))\n",
        "ELgl = ELgl.astype(int)\n",
        "#x0, y0 = NLgl[ELgl[:,0]-1,0], NLgl[ELgl[:,0]-1,1]\n",
        "#x1, y1 = NLgl[ELgl[:,1]-1,0], NLgl[ELgl[:,1]-1,1]\n",
        "#x2, y2 = NLgl[ELgl[:,2]-1,0], NLgl[ELgl[:,2]-1,1]\n",
        "#plt.plot(np.array([x0,x1]),np.array([y0,y1]),'black',linewidth=0.5);\n",
        "#plt.plot(np.array([x1,x2]),np.array([y1,y2]),'black',linewidth=0.5);\n",
        "#plt.plot(np.array([x2,x0]),np.array([y2,y0]),'black',linewidth=0.5);\n",
        "plt.axis('equal')\n",
        "lnap = np.delete(lnap,0,axis = 0)\n",
        "print(\"Количество элементов \", le)\n",
        "plt.grid()\n",
        "#e = plt.Polygon([a,b,c],color='red')\n",
        "#plt.gca().add_patch(e)\n",
        "plt.xlabel('x')\n",
        "plt.ylabel('y')\n",
        "plt.plot(b[0],b[1],'r*')\n",
        "plt.plot(a[0],a[1],'r*')\n",
        "plt.plot(c[0],c[1],'r*')  \n",
        "plt.show()\n",
        "plt.close()\n",
        "lnap = np.delete(lnap,0,axis = 0)\n",
        "  "
      ]
    },
    {
      "cell_type": "code",
      "execution_count": null,
      "metadata": {
        "id": "7hInonLQlEZL",
        "colab": {
          "base_uri": "https://localhost:8080/",
          "height": 501
        },
        "outputId": "8b849b30-332a-41a4-e45f-743347acaa60"
      },
      "outputs": [
        {
          "output_type": "stream",
          "name": "stdout",
          "text": [
            "sigmamax =  1887488240.362215\n",
            "[56.  4.] [58.  6.] [56.  6.]\n",
            "Количество элементов  550\n"
          ]
        },
        {
          "output_type": "display_data",
          "data": {
            "text/plain": [
              "<Figure size 640x480 with 1 Axes>"
            ],
            "image/png": "[encoded data removed]"
          },
          "metadata": {}
        }
      ],
      "source": [
        "ln = len(NL)\n",
        "le = len(EL)\n",
        "lnap = np.matrix([-1,-1,-1])\n",
        "max_sig = 0\n",
        "max_sig_i = -1\n",
        "m_s=0\n",
        "m_s_i=-1\n",
        "#обогащение\n",
        "for i in range(len(NL)):\n",
        "        for j in range(len(NLgl)):\n",
        "          if abs(NLgl[j,0]-NL[i,0])<h/10000 and abs(NLgl[j,1]-NL[i,1])<h/10000:\n",
        "              #print(NLgl[j,0],NL[i,0],NLgl[j,1],NL[i,1])\n",
        "              #print(U[i*2],U[i*2+1])\n",
        "              U[i*2] = Ufin[j*2]\n",
        "              U[i*2+1]= Ufin[j*2+1]\n",
        "for i in range(le):\n",
        "    B = make_B(i,EL,NL,D)\n",
        "    Ui = np.zeros((6))\n",
        "    Ui[0] = U[EL[i,0]*2]\n",
        "    Ui[1] = U[EL[i,0]*2+1]\n",
        "    Ui[2] = U[EL[i,1]*2]\n",
        "    Ui[3] = U[EL[i,1]*2+1]  \n",
        "    Ui[4] = U[EL[i,2]*2]\n",
        "    Ui[5] = U[EL[i,2]*2+1]#деформации (эпсилон)    \n",
        "    Eps = B.dot(Ui)    # напряжения(сигма)\n",
        "    Nap = D.dot(Eps) \n",
        "    lnap = np.append(lnap,[[Nap[0],Nap[1],Nap[2]]],axis=0)\n",
        "    NapM = np.matrix([[Nap[0],Nap[2]],[Nap[2],Nap[1]]]) \n",
        "    now_sig = abs(Nap[0])\n",
        "    a = NL[EL[i,0],:]\n",
        "    b = NL[EL[i,1],:]\n",
        "    c = NL[EL[i,2],:]\n",
        "    #print(now_sig)\n",
        "    e = plt.Polygon([a,b,c],color=[abs(now_sig)/18579951021,1 - abs(now_sig)/18799551021,abs(now_sig)/18795951021])\n",
        "    #e = plt.Polygon([a,b,c],color=[abs(now_sig)/4500,1 - abs(now_sig)/4500,abs(now_sig)/4500])\n",
        "    #e = plt.Polygon([a,b,c],color=[abs(now_sig)/19195717270,1 - abs(now_sig)/19195717270,abs(now_sig)/19195717270])\n",
        "    plt.gca().add_patch(e)\n",
        "    #Sig,s = np.linalg.eig(NapM)         \n",
        "    #now_sig = ma.sqrt(Nap[0]**2-Nap[0]*Nap[1]+Nap[1]**2+3*Nap[2]**2)\n",
        "    if(NL[EL[i,2],0]==55 and NL[EL[i,2],1]==10-delta ):\n",
        "      print(now_sig)\n",
        "    if(NL[EL[i,1],0]==55 and NL[EL[i,1],1]==10-delta ):\n",
        "      print( now_sig)\n",
        "    if(NL[EL[i,0],0]==55 and NL[EL[i,0],1]==10-delta ):\n",
        "      print(now_sig)\n",
        "    if now_sig > max_sig:\n",
        "        max_sig = now_sig\n",
        "        #print(\"максимум \",max_sig)\n",
        "        max_sig_i = i\n",
        "    \n",
        "print(\"sigmamax = \",max_sig)\n",
        "a = NL[EL[max_sig_i,0],:]\n",
        "b = NL[EL[max_sig_i,1],:]\n",
        "c = NL[EL[max_sig_i,2],:]\n",
        "print(a,b,c)\n",
        "El = EL + np.ones((EL.shape[0],EL.shape[1]))\n",
        "EL = EL.astype(int)\n",
        "#x0, y0 = NLgl[ELgl[:,0]-1,0], NLgl[ELgl[:,0]-1,1]\n",
        "#x1, y1 = NLgl[ELgl[:,1]-1,0], NLgl[ELgl[:,1]-1,1]\n",
        "#x2, y2 = NLgl[ELgl[:,2]-1,0], NLgl[ELgl[:,2]-1,1]\n",
        "#plt.plot(np.array([x0,x1]),np.array([y0,y1]),'black',linewidth=0.5);\n",
        "#plt.plot(np.array([x1,x2]),np.array([y1,y2]),'black',linewidth=0.5);\n",
        "#plt.plot(np.array([x2,x0]),np.array([y2,y0]),'black',linewidth=0.5);\n",
        "plt.axis('equal')\n",
        "lnap = np.delete(lnap,0,axis = 0)\n",
        "print(\"Количество элементов \", le)\n",
        "plt.grid()\n",
        "#e = plt.Polygon([a,b,c],color='red')\n",
        "#plt.gca().add_patch(e)\n",
        "plt.xlabel('x')\n",
        "plt.ylabel('y')\n",
        "plt.plot(b[0],b[1],'r*')\n",
        "plt.plot(a[0],a[1],'r*')\n",
        "plt.plot(c[0],c[1],'r*')  \n",
        "plt.show()\n",
        "plt.close()\n",
        "lnap = np.delete(lnap,0,axis = 0)"
      ]
    },
    {
      "cell_type": "markdown",
      "source": [
        "# Динамика роста дефекта\n"
      ],
      "metadata": {
        "id": "WeDIY0XT8j3D"
      }
    },
    {
      "cell_type": "markdown",
      "source": [
        "Алгоритм решения задачи для фиксированной начальной геометрии:\n",
        "1 построение геометрии, задание свойств материала;\n",
        "2 разбиение на конечные элементы, расчет напряжений; (полный цикл – глобальная, локальная задача + итерации до «сходимости»)\n",
        "3 определение напряжений (maximum principal stress = stress_K) в нижней точке дефекта;\n",
        "4 расчет скорости роста дефекта на данном шаге по формуле V_k=(а+m*stress_k);\n",
        "5 расчет глубины на следующем шаге по формуле S_i=S_(i-1) + V_(i-1)*t где t – временной шаг;\n",
        "6 построение геометрии следующего шага – с изменившейся глубиной;\n",
        "7 переход к шагу 2 в цикле, цикл работает до тех пор пока полная глубина дефекта (сфера+цилиндр) S_i на каком-то шаге не станет >= h/2.\n"
      ],
      "metadata": {
        "id": "8Xi-1qvhbad3"
      }
    },
    {
      "cell_type": "code",
      "source": [
        "def iteration_deep(ms,now_deep):\n",
        "  a = 0.1\n",
        "  m = 0.0008\n",
        "  Vk = a+m*ms\n",
        "  Si = now_deep + t*Vk\n",
        "  return Si\n"
      ],
      "metadata": {
        "id": "Oa05uzEnOsSM"
      },
      "execution_count": null,
      "outputs": []
    },
    {
      "cell_type": "markdown",
      "source": [
        "# Картинки"
      ],
      "metadata": {
        "id": "IdJOgHYM8q5Y"
      }
    },
    {
      "cell_type": "code",
      "source": [
        "def paint(cord,elem):\n",
        "    x0, y0 = cord[elem[:,0]-1,0], cord[elem[:,0]-1,1]\n",
        "    x1, y1 = cord[elem[:,1]-1,0], cord[elem[:,1]-1,1]\n",
        "    x2, y2 = cord[elem[:,2]-1,0], cord[elem[:,2]-1,1]\n",
        "    plt.plot(np.array([x0,x1]),np.array([y0,y1]),'black',linewidth=0.5);\n",
        "    plt.plot(np.array([x1,x2]),np.array([y1,y2]),'black',linewidth=0.5);\n",
        "    plt.plot(np.array([x2,x0]),np.array([y2,y0]),'black',linewidth=0.5);\n",
        "    plt.axis('equal')\n",
        "    for i in range(len(cord)):\n",
        "      plt.annotate(i+1,xy = (cord[i,0]+0.02,cord[i,1]),c=\"red\")\n",
        "    count2=1\n",
        "    for j in range(0,len(elem)):\n",
        "        plt.annotate(count2,xy = ((cord[elem[j,0]-1,0]+cord[elem[j,1]-1,0]+cord[elem[j,2]-1,0])/3,(cord[elem[j,0]-1,1]+cord[elem[j,1]-1,1]+cord[elem[j,2]-1,1])/3),c = 'blue')\n",
        "        count2 += 1\n",
        "    plt.savefig('my_plot.png')\n",
        "    #plt.grid()\n",
        "    return "
      ],
      "metadata": {
        "id": "xmkPoN19gg6w"
      },
      "execution_count": null,
      "outputs": []
    },
    {
      "cell_type": "code",
      "source": [
        "ni,ei = uniform_function_(0,0,3,1,3,1)\n",
        "paint(ni,ei)"
      ],
      "metadata": {
        "colab": {
          "base_uri": "https://localhost:8080/",
          "height": 265
        },
        "id": "1UMjDQPdd8pt",
        "outputId": "3b934f7f-e8ce-449f-d531-e6e9661da8cf"
      },
      "execution_count": null,
      "outputs": [
        {
          "output_type": "display_data",
          "data": {
            "text/plain": [
              "<Figure size 432x288 with 1 Axes>"
            ],
            "image/png": "[encoded data removed]"
          },
          "metadata": {
            "needs_background": "light"
          }
        }
      ]
    }
  ],
  "metadata": {
    "kernelspec": {
      "display_name": "Python 3",
      "language": "python",
      "name": "python3"
    },
    "language_info": {
      "codemirror_mode": {
        "name": "ipython",
        "version": 3
      },
      "file_extension": ".py",
      "mimetype": "text/x-python",
      "name": "python",
      "nbconvert_exporter": "python",
      "pygments_lexer": "ipython3",
      "version": "3.8.3"
    },
    "colab": {
      "provenance": [],
      "collapsed_sections": [
        "F5LuSHY76Qz8",
        "CurN7ZW7PlsV",
        "ZJa-TY3YZjXs"
      ],
      "include_colab_link": true
    }
  },
  "nbformat": 4,
  "nbformat_minor": 0
}